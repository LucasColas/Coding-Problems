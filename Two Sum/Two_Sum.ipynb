{
  "nbformat": 4,
  "nbformat_minor": 0,
  "metadata": {
    "colab": {
      "name": "Two Sum.ipynb",
      "provenance": [],
      "authorship_tag": "ABX9TyOB2IL7EPfOdrXyMqu2Anw7",
      "include_colab_link": true
    },
    "kernelspec": {
      "name": "python3",
      "display_name": "Python 3"
    },
    "language_info": {
      "name": "python"
    }
  },
  "cells": [
    {
      "cell_type": "markdown",
      "metadata": {
        "id": "view-in-github",
        "colab_type": "text"
      },
      "source": [
        "<a href=\"https://colab.research.google.com/github/LucasColas/Coding-Problems/blob/main/Two%20Sum/Two_Sum.ipynb\" target=\"_parent\"><img src=\"https://colab.research.google.com/assets/colab-badge.svg\" alt=\"Open In Colab\"/></a>"
      ]
    },
    {
      "cell_type": "markdown",
      "metadata": {
        "id": "kBVRfWvdY-Qw"
      },
      "source": [
        "Two Sum \n"
      ]
    },
    {
      "cell_type": "code",
      "metadata": {
        "id": "HeVWKm4qY8D6"
      },
      "source": [
        "class Solution:\n",
        "    def twoSum(self, nums: List[int], target: int) -> List[int]:\n",
        "        nums_hashmap = {}\n",
        "        for i in range(len(nums)):\n",
        "            nums_hashmap[nums[i]] = i \n",
        "            \n",
        "        for j in range(len(nums)):\n",
        "            y = target-nums[j]\n",
        "            \n",
        "            if y in nums_hashmap and nums_hashmap[y] != j:\n",
        "                return [j, nums_hashmap[y]]"
      ],
      "execution_count": null,
      "outputs": []
    }
  ]
}