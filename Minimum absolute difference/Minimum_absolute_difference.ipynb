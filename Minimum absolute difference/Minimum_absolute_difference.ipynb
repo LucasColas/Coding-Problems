{
  "nbformat": 4,
  "nbformat_minor": 0,
  "metadata": {
    "colab": {
      "name": "Minimum absolute difference.ipynb",
      "provenance": [],
      "collapsed_sections": [],
      "authorship_tag": "ABX9TyM/RjmyUMx9AHvx/H116LEk",
      "include_colab_link": true
    },
    "kernelspec": {
      "name": "python3",
      "display_name": "Python 3"
    },
    "language_info": {
      "name": "python"
    }
  },
  "cells": [
    {
      "cell_type": "markdown",
      "metadata": {
        "id": "view-in-github",
        "colab_type": "text"
      },
      "source": [
        "<a href=\"https://colab.research.google.com/github/LucasColas/Coding-Problems/blob/main/Minimum%20absolute%20difference/Minimum_absolute_difference.ipynb\" target=\"_parent\"><img src=\"https://colab.research.google.com/assets/colab-badge.svg\" alt=\"Open In Colab\"/></a>"
      ]
    },
    {
      "cell_type": "markdown",
      "source": [
        "Given an array of distinct integers arr, find all pairs of elements with the minimum absolute difference of any two elements. \n",
        "\n",
        "Return a list of pairs in ascending order(with respect to pairs), each pair [a, b] follows : \n",
        "\n",
        "    a, b are from arr\n",
        "    a < b\n",
        "    b - a equals to the minimum absolute difference of any two elements in arr\n",
        "\n",
        "\n",
        "From [Leetcode](https://leetcode.com/problems/minimum-absolute-difference/) "
      ],
      "metadata": {
        "id": "YWQrQ3l7WYTt"
      }
    },
    {
      "cell_type": "code",
      "execution_count": null,
      "metadata": {
        "colab": {
          "base_uri": "https://localhost:8080/"
        },
        "id": "eSQaaQicWUx8",
        "outputId": "90462a34-9a31-4147-8f36-da3f6a14188e"
      },
      "outputs": [
        {
          "output_type": "stream",
          "name": "stdout",
          "text": [
            "[[1, 3]]\n"
          ]
        },
        {
          "output_type": "execute_result",
          "data": {
            "text/plain": [
              "[[1, 3]]"
            ]
          },
          "metadata": {},
          "execution_count": 1
        }
      ],
      "source": [
        "from operator import itemgetter\n",
        "from math import inf\n",
        "def minimumAbsDifference(arr):\n",
        "  min = inf\n",
        "  \n",
        "  for i in range(len(arr)):\n",
        "    for j in range(len(arr)):\n",
        "      #print(arr[i], arr[j],arr[i]-arr[j] < min and arr[i] > arr[j])\n",
        "      if arr[i]-arr[j] < min and arr[i] > arr[j]:\n",
        "        min = arr[i]-arr[j]  \n",
        "        \n",
        "\n",
        "  Result = []\n",
        "  for i in range(len(arr)):\n",
        "    for j in range(len(arr)):\n",
        "      if arr[i]-arr[j] == min and arr[i] > arr[j]:\n",
        "        Result.append([arr[j], arr[i]])\n",
        "\n",
        "  Result.sort(key=itemgetter(0))\n",
        "\n",
        "  return Result\n",
        "\n",
        "minimumAbsDifference([1,3,6,10,15])"
      ]
    }
  ]
}