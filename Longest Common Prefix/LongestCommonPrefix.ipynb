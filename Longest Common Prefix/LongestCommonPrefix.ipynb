{
  "nbformat": 4,
  "nbformat_minor": 0,
  "metadata": {
    "colab": {
      "name": "Untitled6.ipynb",
      "provenance": [],
      "authorship_tag": "ABX9TyNBmRTPFEfULF5dlBcBdxZc",
      "include_colab_link": true
    },
    "kernelspec": {
      "name": "python3",
      "display_name": "Python 3"
    },
    "language_info": {
      "name": "python"
    }
  },
  "cells": [
    {
      "cell_type": "markdown",
      "metadata": {
        "id": "view-in-github",
        "colab_type": "text"
      },
      "source": [
        "<a href=\"https://colab.research.google.com/github/LucasColas/Coding-Problems/blob/main/Longest%20Common%20Prefix/LongestCommonPrefix.ipynb\" target=\"_parent\"><img src=\"https://colab.research.google.com/assets/colab-badge.svg\" alt=\"Open In Colab\"/></a>"
      ]
    },
    {
      "cell_type": "code",
      "metadata": {
        "id": "lmZ_MpnMJ4rj"
      },
      "source": [
        "def longestCommonPrefix(strs):\n",
        "  prefix = \"\"\n",
        "  i = 0\n",
        "  j = 0\n",
        "  smallstr = \"\"\n",
        "  for i in strs:\n",
        "    if len(i) < len(smallstr):\n",
        "      smallstr = i\n",
        "\n",
        "  while j <= len(smallstr)-1:\n",
        "    if strs[i][j] != strs[i+1][j]:\n",
        "      return prefix\n",
        "    \n",
        "    if i+1 >= len(strs)-1:\n",
        "      prefix += strs[i][j]\n",
        "\n",
        "      j += 1 \n",
        "      i = 0\n",
        "\n",
        "    else:\n",
        "      i += 1\n",
        "\n",
        "\n",
        "  return prefix\n",
        "\n",
        "    \n",
        "\n",
        "\n",
        "longestCommonPrefix([\"dog\",\"racecar\",\"car\"])"
      ],
      "execution_count": null,
      "outputs": []
    }
  ]
}