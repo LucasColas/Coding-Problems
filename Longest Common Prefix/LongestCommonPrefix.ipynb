{
  "nbformat": 4,
  "nbformat_minor": 0,
  "metadata": {
    "colab": {
      "name": "Longest Common Prefix.ipynb",
      "provenance": [],
      "collapsed_sections": [],
      "authorship_tag": "ABX9TyOkazCoMjHm8rfNfwzYuZ4c",
      "include_colab_link": true
    },
    "kernelspec": {
      "name": "python3",
      "display_name": "Python 3"
    },
    "language_info": {
      "name": "python"
    }
  },
  "cells": [
    {
      "cell_type": "markdown",
      "metadata": {
        "id": "view-in-github",
        "colab_type": "text"
      },
      "source": [
        "<a href=\"https://colab.research.google.com/github/LucasColas/Coding-Problems/blob/main/Longest%20Common%20Prefix/LongestCommonPrefix.ipynb\" target=\"_parent\"><img src=\"https://colab.research.google.com/assets/colab-badge.svg\" alt=\"Open In Colab\"/></a>"
      ]
    },
    {
      "cell_type": "code",
      "metadata": {
        "id": "lmZ_MpnMJ4rj",
        "colab": {
          "base_uri": "https://localhost:8080/",
          "height": 223
        },
        "outputId": "82cbc15f-90e3-4531-8689-1dcaf9c58fb2"
      },
      "source": [
        "def longestCommonPrefix(strs):\n",
        "  \n",
        "  if len(strs) == 0:\n",
        "    return \"\"\n",
        "  elif len(strs) == 1:\n",
        "    return strs[0]\n",
        "\n",
        "  prefix = \"\"\n",
        "  smallstr = strs[0]\n",
        "\n",
        "  for i in strs:\n",
        "    print(i)\n",
        "    if len(i) < len(smallstr):\n",
        "      smallstr = i\n",
        "\n",
        "  #print(smallstr)\n",
        "  i = 0\n",
        "  j = 0\n",
        "  while j <= len(smallstr)-1:\n",
        "    #print(strs[i][j] != strs[i+1][j])\n",
        "    if strs[i][j] != strs[i+1][j]:\n",
        "      return prefix\n",
        "    \n",
        "    if i+1 >= len(strs)-1:\n",
        "      prefix += strs[i][j]\n",
        "\n",
        "      j += 1 \n",
        "      i = 0\n",
        "\n",
        "    else:\n",
        "      i += 1\n",
        "\n",
        "\n",
        "  return prefix\n",
        "\n",
        "    \n",
        "\n",
        "\n",
        "longestCommonPrefix([\"flower\",\"flow\",\"flight\"])"
      ],
      "execution_count": 6,
      "outputs": [
        {
          "output_type": "stream",
          "name": "stdout",
          "text": [
            "flower\n",
            "flow\n",
            "flight\n",
            "flow\n",
            "False\n",
            "False\n",
            "False\n",
            "False\n",
            "False\n",
            "True\n"
          ]
        },
        {
          "output_type": "execute_result",
          "data": {
            "application/vnd.google.colaboratory.intrinsic+json": {
              "type": "string"
            },
            "text/plain": [
              "'fl'"
            ]
          },
          "metadata": {},
          "execution_count": 6
        }
      ]
    }
  ]
}