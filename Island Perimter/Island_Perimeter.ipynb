{
  "nbformat": 4,
  "nbformat_minor": 0,
  "metadata": {
    "colab": {
      "name": "Island Perimeter.ipynb",
      "provenance": [],
      "authorship_tag": "ABX9TyP5hRcHVZCNwcvGKwDXvHjS",
      "include_colab_link": true
    },
    "kernelspec": {
      "name": "python3",
      "display_name": "Python 3"
    },
    "language_info": {
      "name": "python"
    }
  },
  "cells": [
    {
      "cell_type": "markdown",
      "metadata": {
        "id": "view-in-github",
        "colab_type": "text"
      },
      "source": [
        "<a href=\"https://colab.research.google.com/github/LucasColas/Coding-Problems/blob/main/Island%20Perimter/Island_Perimeter.ipynb\" target=\"_parent\"><img src=\"https://colab.research.google.com/assets/colab-badge.svg\" alt=\"Open In Colab\"/></a>"
      ]
    },
    {
      "cell_type": "code",
      "metadata": {
        "colab": {
          "base_uri": "https://localhost:8080/"
        },
        "id": "DARtGESvKu-4",
        "outputId": "36b00b27-c1e6-453d-c4a3-83f74cc0d54b"
      },
      "source": [
        "\n",
        "def islandPerimeter(grid):\n",
        "        Perimeter = 0\n",
        "        for i, row in enumerate(grid):\n",
        "            for j, cell in enumerate(row):\n",
        "                if j == 0 and cell == 1:\n",
        "                    Perimeter += 1\n",
        "                    print(\"j == 0 and cell == 1  \",i,j)\n",
        "\n",
        "                if j == len(row)-1 and cell == 1:\n",
        "                    Perimeter +=1\n",
        "                    print(\"j == len(row)-1 and cell == 1  \",i,j)\n",
        "\n",
        "                if j <= len(row) - 2 and j>0:\n",
        "                    if row[j+1] == 0 and cell == 1:\n",
        "                        Perimeter += 1\n",
        "                        print(\"<= len(row) - 2 and j>0  \",i,j)\n",
        "\n",
        "                    \n",
        "                    if row[j-1] == 0 and cell == 1:\n",
        "                        Perimeter += 1\n",
        "                        print(\"row[j-1] == 0 and cell == 1  \",i,j)\n",
        "\n",
        "\n",
        "                if i == 0 and cell == 1:\n",
        "                    Perimeter += 1\n",
        "                    print(\"if i == 0 and cell == 1  \",i,j)\n",
        "                \n",
        "\n",
        "                if i == len(grid)-1:\n",
        "                    if cell == 1:\n",
        "                        Perimeter += 1\n",
        "                        print(\"if i == len(grid)- 1  \",i,j)\n",
        "\n",
        "                        if grid[i-1][j] == 0:\n",
        "                          Perimeter += 1\n",
        "                          print(\"if grid[i-1][j] == 0  \", i,j)\n",
        "\n",
        "\n",
        "                if i > 0 and i <= len(grid)-2:\n",
        "                    if grid[i-1][j] == 0 and cell == 1:\n",
        "                          Perimeter += 1\n",
        "                          print(\"if i > 0 and i <= len(grid)-2  \",i,j)\n",
        "\n",
        "                  \n",
        "\n",
        "                    if grid[i+1][j] == 0 and cell == 1:\n",
        "                        Perimeter += 1\n",
        "                        print(\"if grid[i+1[j]  \",i,j)\n",
        "                   \n",
        "        print(Perimeter)        \n",
        "        return Perimeter\n",
        "islandPerimeter([[1,0]])"
      ],
      "execution_count": null,
      "outputs": [
        {
          "output_type": "stream",
          "name": "stdout",
          "text": [
            "j == 0 and cell == 1   0 0\n",
            "if i == 0 and cell == 1   0 0\n",
            "if i == len(grid)- 1   0 0\n",
            "3\n"
          ]
        },
        {
          "output_type": "execute_result",
          "data": {
            "text/plain": [
              "3"
            ]
          },
          "metadata": {},
          "execution_count": 15
        }
      ]
    }
  ]
}