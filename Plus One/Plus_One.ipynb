{
  "nbformat": 4,
  "nbformat_minor": 0,
  "metadata": {
    "colab": {
      "name": "Plus One.ipynb",
      "provenance": [],
      "authorship_tag": "ABX9TyOUzDHiv08i4PZq1zaoqfVd",
      "include_colab_link": true
    },
    "kernelspec": {
      "name": "python3",
      "display_name": "Python 3"
    },
    "language_info": {
      "name": "python"
    }
  },
  "cells": [
    {
      "cell_type": "markdown",
      "metadata": {
        "id": "view-in-github",
        "colab_type": "text"
      },
      "source": [
        "<a href=\"https://colab.research.google.com/github/LucasColas/Coding-Problems/blob/main/Plus%20One/Plus_One.ipynb\" target=\"_parent\"><img src=\"https://colab.research.google.com/assets/colab-badge.svg\" alt=\"Open In Colab\"/></a>"
      ]
    },
    {
      "cell_type": "markdown",
      "metadata": {
        "id": "H0FTyHO8QPCw"
      },
      "source": [
        "# Plus One\n",
        "\n",
        "You are given a large integer represented as an integer array digits, where each digits[i] is the ith digit of the integer. The digits are ordered from most significant to least significant in left-to-right order. The large integer does not contain any leading 0's.\n",
        "\n",
        "Increment the large integer by one and return the resulting array of digits.\n",
        "\n",
        "From [Leetcode](https://leetcode.com/problems/plus-one/)."
      ]
    },
    {
      "cell_type": "code",
      "metadata": {
        "colab": {
          "base_uri": "https://localhost:8080/"
        },
        "id": "Vf2YiEpGQFF6",
        "outputId": "b25736ed-9103-4e23-b5b2-0b03f9bd3c33"
      },
      "source": [
        "def PlusOne(digits):\n",
        "  if digits[len(digits)-1] < 9:\n",
        "    digits[len(digits)-1] = digits[len(digits)-1] + 1\n",
        "    return digits\n",
        "  i = len(digits)-1\n",
        "\n",
        "  #print(digits)\n",
        "  #print(digits[i])\n",
        "  while digits[i] >= 9:\n",
        "    \n",
        "    #print(i)\n",
        "    #print(digits[i])\n",
        "    if i == 0 and digits[i] == 9:\n",
        "      #print(\"inside if\")\n",
        "      digits[0] = 0\n",
        "      digits.insert(0, 1)\n",
        "      return digits\n",
        "    digits[i] = 0\n",
        "    i -= 1\n",
        "    \n",
        "\n",
        "  digits[i] = digits[i]+1\n",
        "\n",
        "  return digits\n",
        "\n",
        "PlusOne([9])\n"
      ],
      "execution_count": 13,
      "outputs": [
        {
          "output_type": "execute_result",
          "data": {
            "text/plain": [
              "[1, 0]"
            ]
          },
          "metadata": {},
          "execution_count": 13
        }
      ]
    }
  ]
}