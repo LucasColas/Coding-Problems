{
  "nbformat": 4,
  "nbformat_minor": 0,
  "metadata": {
    "colab": {
      "name": "Plus One.ipynb",
      "provenance": [],
      "authorship_tag": "ABX9TyN3POsfbnKi0VFtWac8epRY",
      "include_colab_link": true
    },
    "kernelspec": {
      "name": "python3",
      "display_name": "Python 3"
    },
    "language_info": {
      "name": "python"
    }
  },
  "cells": [
    {
      "cell_type": "markdown",
      "metadata": {
        "id": "view-in-github",
        "colab_type": "text"
      },
      "source": [
        "<a href=\"https://colab.research.google.com/github/LucasColas/Coding-Problems/blob/main/Plus%20One/Plus_One.ipynb\" target=\"_parent\"><img src=\"https://colab.research.google.com/assets/colab-badge.svg\" alt=\"Open In Colab\"/></a>"
      ]
    },
    {
      "cell_type": "markdown",
      "metadata": {
        "id": "H0FTyHO8QPCw"
      },
      "source": [
        "# Plus One\n",
        "\n",
        "You are given a large integer represented as an integer array digits, where each digits[i] is the ith digit of the integer. The digits are ordered from most significant to least significant in left-to-right order. The large integer does not contain any leading 0's.\n",
        "\n",
        "Increment the large integer by one and return the resulting array of digits.\n",
        "\n",
        "From [Leetcode](https://leetcode.com/problems/plus-one/)."
      ]
    },
    {
      "cell_type": "code",
      "metadata": {
        "colab": {
          "base_uri": "https://localhost:8080/"
        },
        "id": "Vf2YiEpGQFF6",
        "outputId": "03831158-f6da-47c3-d026-05ca9d8554f8"
      },
      "source": [
        "def PlusOne(digits):\n",
        "  if digits[len(digits)-1] < 9:\n",
        "    digits[len(digits)-1] += 1\n",
        "    return digits\n",
        "\n",
        "  i = len(digits)-1\n",
        "\n",
        "  #print(digits)\n",
        "  #print(digits[i])\n",
        "  while digits[i] >= 9:\n",
        "    #print(i)\n",
        "    #print(digits[i])\n",
        "    if i == 0 and digits[i] == 9:\n",
        "      #print(\"inside if\")\n",
        "      digits[i] = 0\n",
        "      digits.insert(0, 1)\n",
        "      return digits\n",
        "    digits[i] = 0\n",
        "    i -= 1\n",
        "    \n",
        "\n",
        "  digits[i] += 1\n",
        "\n",
        "  return digits\n",
        "\n",
        "PlusOne([4,3,2,1])\n"
      ],
      "execution_count": 3,
      "outputs": [
        {
          "output_type": "execute_result",
          "data": {
            "text/plain": [
              "[4, 3, 2, 2]"
            ]
          },
          "metadata": {},
          "execution_count": 3
        }
      ]
    }
  ]
}