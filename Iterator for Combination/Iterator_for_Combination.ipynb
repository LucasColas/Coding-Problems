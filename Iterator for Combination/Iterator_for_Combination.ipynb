{
  "nbformat": 4,
  "nbformat_minor": 0,
  "metadata": {
    "colab": {
      "name": "Iterator for Combination.ipynb",
      "provenance": [],
      "collapsed_sections": [],
      "authorship_tag": "ABX9TyOxUpuQL7LtiX5OtLxLEEAN",
      "include_colab_link": true
    },
    "kernelspec": {
      "name": "python3",
      "display_name": "Python 3"
    },
    "language_info": {
      "name": "python"
    }
  },
  "cells": [
    {
      "cell_type": "markdown",
      "metadata": {
        "id": "view-in-github",
        "colab_type": "text"
      },
      "source": [
        "<a href=\"https://colab.research.google.com/github/LucasColas/Coding-Problems/blob/main/Iterator%20for%20Combination/Iterator_for_Combination.ipynb\" target=\"_parent\"><img src=\"https://colab.research.google.com/assets/colab-badge.svg\" alt=\"Open In Colab\"/></a>"
      ]
    },
    {
      "cell_type": "code",
      "metadata": {
        "id": "Cd9RDaQaRZgq",
        "colab": {
          "base_uri": "https://localhost:8080/"
        },
        "outputId": "cd4b67ec-41bc-403d-8509-d72913ab7927"
      },
      "source": [
        "n = \"abc\"\n",
        "every_comb = []\n",
        "\n",
        "for i in range(2**len(n)):\n",
        "  #cursub_msg = \"current subset contains : \"\n",
        "  cursub = \"\"\n",
        "  for j in range(len(n)):\n",
        "    print(i,j, n[j], 1<<j, 1<<j & i>0)\n",
        "    if ((1<<j) & i > 0):\n",
        "      print(i,j, n[j])\n",
        "      cursub += (n[j])\n",
        "  every_comb.append(cursub)\n",
        "\n",
        "  #print(cursub_msg, cursub)\n",
        "\n",
        "print(every_comb)"
      ],
      "execution_count": null,
      "outputs": [
        {
          "output_type": "stream",
          "name": "stdout",
          "text": [
            "0 0 a 1 False\n",
            "0 1 b 2 False\n",
            "0 2 c 4 False\n",
            "1 0 a 1 True\n",
            "1 0 a\n",
            "1 1 b 2 False\n",
            "1 2 c 4 False\n",
            "2 0 a 1 False\n",
            "2 1 b 2 True\n",
            "2 1 b\n",
            "2 2 c 4 False\n",
            "3 0 a 1 True\n",
            "3 0 a\n",
            "3 1 b 2 True\n",
            "3 1 b\n",
            "3 2 c 4 False\n",
            "4 0 a 1 False\n",
            "4 1 b 2 False\n",
            "4 2 c 4 True\n",
            "4 2 c\n",
            "5 0 a 1 True\n",
            "5 0 a\n",
            "5 1 b 2 False\n",
            "5 2 c 4 True\n",
            "5 2 c\n",
            "6 0 a 1 False\n",
            "6 1 b 2 True\n",
            "6 1 b\n",
            "6 2 c 4 True\n",
            "6 2 c\n",
            "7 0 a 1 True\n",
            "7 0 a\n",
            "7 1 b 2 True\n",
            "7 1 b\n",
            "7 2 c 4 True\n",
            "7 2 c\n",
            "['', 'a', 'b', 'ab', 'c', 'ac', 'bc', 'abc']\n"
          ]
        }
      ]
    },
    {
      "cell_type": "code",
      "metadata": {
        "id": "aCOE1PZzU50M"
      },
      "source": [
        "arr = \"abc\"\n",
        "sz = len(arr)\n",
        "all_combinations = []\n",
        "for mask in range((1<<sz)):\n",
        "  print(mask)\n",
        "  comb = \"\"\n",
        "  for pos in range(sz):\n",
        "    if (mask & (1 << pos)):\n",
        "      comb += arr[pos] \n",
        "    \n",
        "  all_combinations.append(comb)\n",
        "\n",
        "print(all_combinations)"
      ],
      "execution_count": null,
      "outputs": []
    },
    {
      "cell_type": "code",
      "metadata": {
        "id": "1rpDS8hD5vLg"
      },
      "source": [
        "n = 'abc'\n",
        "\n",
        "for index, i in enumerate([format(ord(i), '08b') for i in n]):\n",
        "    print(f'\\nIndex {index} :')\n",
        "    for j in i:\n",
        "        print(j == '1')"
      ],
      "execution_count": null,
      "outputs": []
    },
    {
      "cell_type": "code",
      "metadata": {
        "colab": {
          "base_uri": "https://localhost:8080/"
        },
        "id": "WbWg79pA4G34",
        "outputId": "ce6ce34a-32a8-4a48-c482-d6e57e784cbe"
      },
      "source": [
        "# retourne le code ascii d'un caractère\n",
        "def ascii(c :str):\n",
        "    return ord(c)\n",
        "\n",
        "# convertit le code ascii en binaire\n",
        "def ascii_to_bin(x: int):\n",
        "    return format(x, '08b')\n",
        "\n",
        "# crée une liste de codes ascii à partir d'un string\n",
        "def ascii_list(s: str):\n",
        "    return  [ascii(c) for c in s]\n",
        "\n",
        "# crée une liste de binaires à partir d'une liste de caractères ascii\n",
        "def binary_list(alist: list):\n",
        "    return [ascii_to_bin(a) for a in alist]\n",
        "\n",
        "# mon string\n",
        "s = 'abc'\n",
        "# liste de codes ascii\n",
        "my_ascii_list = ascii_list(s)\n",
        "# liste d'octets\n",
        "my_binary_list = binary_list(my_ascii_list)\n",
        "\n",
        "print(f'string: {s}\\nascii list: {my_ascii_list}\\nbinary list: {my_binary_list}\\n')\n",
        "\n",
        "# boucle sur la liste de caractères transformés en octets (enumerate donne l'index)\n",
        "for index, byte in enumerate(my_binary_list):\n",
        "  print(f'\\nindex {index}')\n",
        "  # boucle sur chaque bit de l'octet\n",
        "  for bit in byte:\n",
        "    set = bit == '1'\n",
        "    print(set)\n",
        "\n",
        "        # liste contenant le résultat sur un octet\n",
        "  result_list = [bit == '1' for bit in byte]\n",
        "  print(result_list)"
      ],
      "execution_count": 2,
      "outputs": [
        {
          "output_type": "stream",
          "name": "stdout",
          "text": [
            "string: abc\n",
            "ascii list: [97, 98, 99]\n",
            "binary list: ['01100001', '01100010', '01100011']\n",
            "\n",
            "\n",
            "index 0\n",
            "False\n",
            "True\n",
            "True\n",
            "False\n",
            "False\n",
            "False\n",
            "False\n",
            "True\n",
            "[False, True, True, False, False, False, False, True]\n",
            "\n",
            "index 1\n",
            "False\n",
            "True\n",
            "True\n",
            "False\n",
            "False\n",
            "False\n",
            "True\n",
            "False\n",
            "[False, True, True, False, False, False, True, False]\n",
            "\n",
            "index 2\n",
            "False\n",
            "True\n",
            "True\n",
            "False\n",
            "False\n",
            "False\n",
            "True\n",
            "True\n",
            "[False, True, True, False, False, False, True, True]\n"
          ]
        }
      ]
    },
    {
      "cell_type": "code",
      "metadata": {
        "id": "Nyh9Bg4hU5X1",
        "colab": {
          "base_uri": "https://localhost:8080/"
        },
        "outputId": "b64cbdde-384a-4dcc-a392-0a131bfce018"
      },
      "source": [
        "class CombinationIterator:\n",
        "  def __init__(self, characters, combinationLength):\n",
        "    self.characters = characters\n",
        "    self.combinationLength = combinationLength\n",
        "\n",
        "  def generate(self):\n",
        "    every_comb = []\n",
        "    for i in range(2**len(self.characters)):\n",
        "      string = \"\"\n",
        "      for j in range(len(self.characters)):\n",
        "\n",
        "        if ((1<<j) & i > 0):\n",
        "          string += self.characters[j]\n",
        "      every_comb.append(string)\n",
        "                    \n",
        "    return every_comb  \n",
        "\n",
        "  def next(self) -> str:\n",
        "    pass\n",
        "\n",
        "  def hasNext(self):\n",
        "    pass\n",
        "        \n",
        "\n",
        "Combination = CombinationIterator(\"abc\", 2)\n",
        "Combination.generate()"
      ],
      "execution_count": null,
      "outputs": [
        {
          "output_type": "execute_result",
          "data": {
            "text/plain": [
              "['', 'a', 'b', 'ab', 'c', 'ac', 'bc', 'abc']"
            ]
          },
          "metadata": {},
          "execution_count": 31
        }
      ]
    }
  ]
}