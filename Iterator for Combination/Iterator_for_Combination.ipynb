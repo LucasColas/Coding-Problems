{
  "nbformat": 4,
  "nbformat_minor": 0,
  "metadata": {
    "colab": {
      "name": "Iterator for Combination.ipynb",
      "provenance": [],
      "collapsed_sections": [],
      "authorship_tag": "ABX9TyPE5UWY91RoYnA7McJLX2cV",
      "include_colab_link": true
    },
    "kernelspec": {
      "name": "python3",
      "display_name": "Python 3"
    },
    "language_info": {
      "name": "python"
    }
  },
  "cells": [
    {
      "cell_type": "markdown",
      "metadata": {
        "id": "view-in-github",
        "colab_type": "text"
      },
      "source": [
        "<a href=\"https://colab.research.google.com/github/LucasColas/Coding-Problems/blob/main/Iterator%20for%20Combination/Iterator_for_Combination.ipynb\" target=\"_parent\"><img src=\"https://colab.research.google.com/assets/colab-badge.svg\" alt=\"Open In Colab\"/></a>"
      ]
    },
    {
      "cell_type": "code",
      "metadata": {
        "id": "Cd9RDaQaRZgq",
        "colab": {
          "base_uri": "https://localhost:8080/"
        },
        "outputId": "755295c4-873c-45b0-d670-515736871ffc"
      },
      "source": [
        "n = \"abc\"\n",
        "every_comb = []\n",
        "#generate all subsets\n",
        "for i in range(2**len(n)):\n",
        "  #cursub_msg = \"current subset contains : \"\n",
        "  cursub = \"\"\n",
        "  for j in range(len(n)):\n",
        "    #print(i,j, n[j], 1<<j, 1<<j & i>0)\n",
        "    if ((1<<j) & i > 0):\n",
        "      #print(i,j, n[j])\n",
        "      cursub += (n[j])\n",
        "  every_comb.append(cursub)\n",
        "\n",
        "  #print(cursub_msg, cursub)\n",
        "\n",
        "print(every_comb)"
      ],
      "execution_count": null,
      "outputs": [
        {
          "output_type": "stream",
          "name": "stdout",
          "text": [
            "['', 'a', 'b', 'ab', 'c', 'ac', 'bc', 'abc']\n"
          ]
        }
      ]
    },
    {
      "cell_type": "code",
      "metadata": {
        "colab": {
          "base_uri": "https://localhost:8080/"
        },
        "id": "XXy9YEP3OA-F",
        "outputId": "110a692c-a504-40fa-d43a-a02a6fe03a72"
      },
      "source": [
        "n = \"abc\"\n",
        "every_comb = []\n",
        "#generate all subsets\n",
        "for i in range(2**len(n)):\n",
        "  #cursub_msg = \"current subset contains : \"\n",
        "  cursub = \"\"\n",
        "  for j in range(len(n)):\n",
        "    #print(i,j, n[j], 1<<j, 1<<j & i>0)\n",
        "    if ((1<<j) & i > 0):\n",
        "      \n",
        "      #print(i,j, n[j])\n",
        "      cursub += (n[j])\n",
        "    if len(cursub) == 2 and cursub not in every_comb:\n",
        "      every_comb.append(cursub)\n",
        "\n",
        "  #print(cursub_msg, cursub)\n",
        "\n",
        "print(every_comb)"
      ],
      "execution_count": null,
      "outputs": [
        {
          "output_type": "stream",
          "name": "stdout",
          "text": [
            "['ab', 'ac', 'bc']\n"
          ]
        }
      ]
    },
    {
      "cell_type": "code",
      "metadata": {
        "colab": {
          "base_uri": "https://localhost:8080/"
        },
        "id": "q9um2UXdPNxb",
        "outputId": "beda9a83-3230-4298-c0b7-286d8c124386"
      },
      "source": [
        "lis = [3,4,5]\n",
        "lis.pop(1)\n",
        "lis"
      ],
      "execution_count": null,
      "outputs": [
        {
          "output_type": "execute_result",
          "data": {
            "text/plain": [
              "[3, 5]"
            ]
          },
          "metadata": {},
          "execution_count": 10
        }
      ]
    },
    {
      "cell_type": "code",
      "metadata": {
        "id": "Nyh9Bg4hU5X1",
        "colab": {
          "base_uri": "https://localhost:8080/"
        },
        "outputId": "02e36fdb-c31c-4d5a-8229-2d2d1092bd90"
      },
      "source": [
        "class CombinationIterator:\n",
        "  def __init__(self, characters, combinationLength):\n",
        "    self.characters = characters\n",
        "    self.combinationLength = combinationLength\n",
        "    self.every_comb = self.generate()\n",
        "\n",
        "  def generate(self):\n",
        "    every_comb = []\n",
        "    for i in range(2**len(self.characters)):\n",
        "      string = \"\"\n",
        "      for j in range(len(self.characters)):\n",
        "\n",
        "        if ((1<<j) & i > 0):\n",
        "          string += self.characters[j]\n",
        "        \n",
        "        if len(string) == self.combinationLength and string not in every_comb:\n",
        "          every_comb.append(string)\n",
        "      \n",
        "    return every_comb\n",
        "\n",
        "  def nextStr(self):\n",
        "    for id in range(len(self.every_comb)):\n",
        "      return self.every_comb.pop(id)              \n",
        "\n",
        "  def hasNext(self):\n",
        "    if len(self.every_comb) >= 1:\n",
        "      return True\n",
        "\n",
        "    return False\n",
        "        \n",
        "\n",
        "itr = CombinationIterator(\"abc\", 2)\n",
        "itr.nextStr()\n",
        "itr.hasNext()\n",
        "itr.nextStr()\n",
        "itr.hasNext()\n",
        "itr.nextStr()\n",
        "itr.hasNext()"
      ],
      "execution_count": 27,
      "outputs": [
        {
          "output_type": "execute_result",
          "data": {
            "text/plain": [
              "False"
            ]
          },
          "metadata": {},
          "execution_count": 27
        }
      ]
    }
  ]
}