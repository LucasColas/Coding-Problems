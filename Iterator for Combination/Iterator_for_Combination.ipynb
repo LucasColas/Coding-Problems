{
  "nbformat": 4,
  "nbformat_minor": 0,
  "metadata": {
    "colab": {
      "name": "Iterator for Combination.ipynb",
      "provenance": [],
      "authorship_tag": "ABX9TyObXWMyuH2SDTbQVzVX0ic2",
      "include_colab_link": true
    },
    "kernelspec": {
      "name": "python3",
      "display_name": "Python 3"
    },
    "language_info": {
      "name": "python"
    }
  },
  "cells": [
    {
      "cell_type": "markdown",
      "metadata": {
        "id": "view-in-github",
        "colab_type": "text"
      },
      "source": [
        "<a href=\"https://colab.research.google.com/github/LucasColas/Coding-Problems/blob/main/Iterator%20for%20Combination/Iterator_for_Combination.ipynb\" target=\"_parent\"><img src=\"https://colab.research.google.com/assets/colab-badge.svg\" alt=\"Open In Colab\"/></a>"
      ]
    },
    {
      "cell_type": "code",
      "metadata": {
        "id": "Cd9RDaQaRZgq",
        "colab": {
          "base_uri": "https://localhost:8080/"
        },
        "outputId": "cf058f99-8c02-4b81-9a0c-f15f346d1851"
      },
      "source": [
        "n = \"abc\"\n",
        "every_comb = []\n",
        "\n",
        "for i in range(2**len(n)):\n",
        "  #cursub_msg = \"current subset contains : \"\n",
        "  cursub = \"\"\n",
        "  for j in range(len(n)):\n",
        "    if ((1<<j) & i > 0):\n",
        "      #print(n[j])\n",
        "      cursub += (n[j])\n",
        "      every_comb.append(cursub)\n",
        "\n",
        "  #print(cursub_msg, cursub)\n",
        "\n",
        "print(every_comb)"
      ],
      "execution_count": 3,
      "outputs": [
        {
          "output_type": "stream",
          "name": "stdout",
          "text": [
            "['a', 'b', 'a', 'ab', 'c', 'a', 'ac', 'b', 'bc', 'a', 'ab', 'abc']\n"
          ]
        }
      ]
    },
    {
      "cell_type": "code",
      "metadata": {
        "id": "aCOE1PZzU50M"
      },
      "source": [
        "arr = \"abc\"\n",
        "sz = len(str)\n",
        "all_combinations = []\n",
        "for mask in range((1<<sz)):\n",
        "  print(mask)\n",
        "  comb = \"\"\n",
        "  for pos in range(sz):\n",
        "    if (mask & (1 << pos)):\n",
        "      comb += arr[pos] \n",
        "    \n",
        "  all_combinations.append(comb)\n",
        "\n",
        "print(all_combinations)"
      ],
      "execution_count": null,
      "outputs": []
    },
    {
      "cell_type": "code",
      "metadata": {
        "id": "Nyh9Bg4hU5X1",
        "colab": {
          "base_uri": "https://localhost:8080/"
        },
        "outputId": "b64cbdde-384a-4dcc-a392-0a131bfce018"
      },
      "source": [
        "class CombinationIterator:\n",
        "  def __init__(self, characters, combinationLength):\n",
        "    self.characters = characters\n",
        "    self.combinationLength = combinationLength\n",
        "\n",
        "  def generate(self):\n",
        "    every_comb = []\n",
        "    for i in range(2**len(self.characters)):\n",
        "      string = \"\"\n",
        "      for j in range(len(self.characters)):\n",
        "\n",
        "        if ((1<<j) & i > 0):\n",
        "          string += self.characters[j]\n",
        "      every_comb.append(string)\n",
        "                    \n",
        "    return every_comb  \n",
        "\n",
        "  def next(self) -> str:\n",
        "    pass\n",
        "\n",
        "  def hasNext(self):\n",
        "    pass\n",
        "        \n",
        "\n",
        "Combination = CombinationIterator(\"abc\", 2)\n",
        "Combination.generate()"
      ],
      "execution_count": 31,
      "outputs": [
        {
          "output_type": "execute_result",
          "data": {
            "text/plain": [
              "['', 'a', 'b', 'ab', 'c', 'ac', 'bc', 'abc']"
            ]
          },
          "metadata": {},
          "execution_count": 31
        }
      ]
    }
  ]
}