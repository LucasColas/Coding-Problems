{
  "nbformat": 4,
  "nbformat_minor": 0,
  "metadata": {
    "colab": {
      "name": "Iterator for Combination.ipynb",
      "provenance": [],
      "collapsed_sections": [],
      "authorship_tag": "ABX9TyOHvco2R3vopg4Q4EysZWCq",
      "include_colab_link": true
    },
    "kernelspec": {
      "name": "python3",
      "display_name": "Python 3"
    },
    "language_info": {
      "name": "python"
    }
  },
  "cells": [
    {
      "cell_type": "markdown",
      "metadata": {
        "id": "view-in-github",
        "colab_type": "text"
      },
      "source": [
        "<a href=\"https://colab.research.google.com/github/LucasColas/Coding-Problems/blob/main/Iterator%20for%20Combination/Iterator_for_Combination.ipynb\" target=\"_parent\"><img src=\"https://colab.research.google.com/assets/colab-badge.svg\" alt=\"Open In Colab\"/></a>"
      ]
    },
    {
      "cell_type": "markdown",
      "metadata": {
        "id": "cvKMvLpcYD1J"
      },
      "source": [
        "Design the CombinationIterator class:\n",
        "\n",
        "\n",
        "*   `CombinationIterator(string characters, int combinationLength)` Initializes the object with a string `characters` of sorted distinct lowercase English letters and a number `combinationLength` as arguments.\n",
        "*   `next()` Returns the next combination of length `combinationLength` in lexicographical order.\n",
        "* `hasNext()` Returns `true` if and only if there exists a next combination.\n",
        "\n",
        "\n",
        "From [Leetcode](https://leetcode.com/problems/iterator-for-combination/)."
      ]
    },
    {
      "cell_type": "code",
      "metadata": {
        "id": "Nyh9Bg4hU5X1",
        "colab": {
          "base_uri": "https://localhost:8080/"
        },
        "outputId": "d3a985b8-d3f2-4538-ac22-76e53a271378"
      },
      "source": [
        "class CombinationIterator:\n",
        "  def __init__(self, characters, combinationLength):\n",
        "    self.characters = characters\n",
        "    self.combinationLength = combinationLength\n",
        "    self.every_comb = self.generate()\n",
        "\n",
        "  def generate(self):\n",
        "    every_comb = []\n",
        "    for i in range(2**len(self.characters)):\n",
        "      string = \"\"\n",
        "      for j in range(len(self.characters)):\n",
        "\n",
        "        if ((1<<j) & i > 0):\n",
        "          string += self.characters[j]\n",
        "        \n",
        "        if len(string) == self.combinationLength and string not in every_comb:\n",
        "          every_comb.append(string)\n",
        "    \n",
        "    every_comb.sort()\n",
        "    return every_comb\n",
        "\n",
        "  def nextStr(self):\n",
        "    for id in range(len(self.every_comb)):\n",
        "      return self.every_comb.pop(id)              \n",
        "\n",
        "  def hasNext(self):\n",
        "    if len(self.every_comb) >= 1:\n",
        "      return True\n",
        "\n",
        "    return False\n",
        "        \n",
        "\n",
        "itr = CombinationIterator(\"bvwz\", 2)\n",
        "#print(itr.every_comb)"
      ],
      "execution_count": 4,
      "outputs": [
        {
          "output_type": "stream",
          "name": "stdout",
          "text": [
            "['bv', 'bw', 'bz', 'vw', 'vz', 'wz']\n"
          ]
        }
      ]
    },
    {
      "cell_type": "markdown",
      "metadata": {
        "id": "1_rEi6IrY0Li"
      },
      "source": [
        "# Tests"
      ]
    },
    {
      "cell_type": "code",
      "metadata": {
        "colab": {
          "base_uri": "https://localhost:8080/"
        },
        "id": "XXy9YEP3OA-F",
        "outputId": "110a692c-a504-40fa-d43a-a02a6fe03a72"
      },
      "source": [
        "n = \"abc\"\n",
        "every_comb = []\n",
        "#generate all subsets\n",
        "for i in range(2**len(n)):\n",
        "  #cursub_msg = \"current subset contains : \"\n",
        "  cursub = \"\"\n",
        "  for j in range(len(n)):\n",
        "    #print(i,j, n[j], 1<<j, 1<<j & i>0)\n",
        "    if ((1<<j) & i > 0):\n",
        "      \n",
        "      #print(i,j, n[j])\n",
        "      cursub += (n[j])\n",
        "    if len(cursub) == 2 and cursub not in every_comb:\n",
        "      every_comb.append(cursub)\n",
        "\n",
        "  #print(cursub_msg, cursub)\n",
        "\n",
        "print(every_comb)"
      ],
      "execution_count": null,
      "outputs": [
        {
          "output_type": "stream",
          "name": "stdout",
          "text": [
            "['ab', 'ac', 'bc']\n"
          ]
        }
      ]
    },
    {
      "cell_type": "code",
      "metadata": {
        "id": "Cd9RDaQaRZgq",
        "colab": {
          "base_uri": "https://localhost:8080/"
        },
        "outputId": "755295c4-873c-45b0-d670-515736871ffc"
      },
      "source": [
        "n = \"abc\"\n",
        "every_comb = []\n",
        "#generate all subsets\n",
        "for i in range(2**len(n)):\n",
        "  #cursub_msg = \"current subset contains : \"\n",
        "  cursub = \"\"\n",
        "  for j in range(len(n)):\n",
        "    #print(i,j, n[j], 1<<j, 1<<j & i>0)\n",
        "    if ((1<<j) & i > 0):\n",
        "      #print(i,j, n[j])\n",
        "      cursub += (n[j])\n",
        "  every_comb.append(cursub)\n",
        "\n",
        "  #print(cursub_msg, cursub)\n",
        "\n",
        "print(every_comb)"
      ],
      "execution_count": null,
      "outputs": [
        {
          "output_type": "stream",
          "name": "stdout",
          "text": [
            "['', 'a', 'b', 'ab', 'c', 'ac', 'bc', 'abc']\n"
          ]
        }
      ]
    }
  ]
}