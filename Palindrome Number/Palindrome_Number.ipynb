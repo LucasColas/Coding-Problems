{
  "nbformat": 4,
  "nbformat_minor": 0,
  "metadata": {
    "colab": {
      "name": "Palindrome Number.ipynb",
      "provenance": [],
      "authorship_tag": "ABX9TyM02ToYP81q+0G8EPT6WXfT",
      "include_colab_link": true
    },
    "kernelspec": {
      "name": "python3",
      "display_name": "Python 3"
    },
    "language_info": {
      "name": "python"
    }
  },
  "cells": [
    {
      "cell_type": "markdown",
      "metadata": {
        "id": "view-in-github",
        "colab_type": "text"
      },
      "source": [
        "<a href=\"https://colab.research.google.com/github/LucasColas/Coding-Problems/blob/main/Palindrome%20Number/Palindrome_Number.ipynb\" target=\"_parent\"><img src=\"https://colab.research.google.com/assets/colab-badge.svg\" alt=\"Open In Colab\"/></a>"
      ]
    },
    {
      "cell_type": "markdown",
      "metadata": {
        "id": "rsPf2P0jzJBr"
      },
      "source": [
        "# Palindrome Number\n",
        "\n",
        "Given an integer x, return true if x is palindrome integer.\n",
        "\n",
        "An integer is a palindrome when it reads the same backward as forward. For example, 121 is palindrome while 123 is not.\n",
        "\n",
        "Input: x = -121\n",
        "\n",
        "Output: false\n",
        "\n",
        "Explanation: From left to right, it reads -121. From right to left, it becomes 121-. Therefore it is not a palindrome.\n",
        "\n",
        "From [Leetcode](https://leetcode.com/problems/palindrome-number/)."
      ]
    },
    {
      "cell_type": "code",
      "metadata": {
        "colab": {
          "base_uri": "https://localhost:8080/"
        },
        "id": "yhPlOD_2zE5X",
        "outputId": "7fde88ef-ca65-4be3-a648-c17d59cc62ae"
      },
      "source": [
        "def isPalindrome(x):\n",
        "  if x < 0:\n",
        "    return False\n",
        "  \n",
        "  else:\n",
        "    num = []\n",
        "    while x > 9:\n",
        "      n = x%10\n",
        "      num.append(n)\n",
        "      x //=10\n",
        "    num.append(x)\n",
        "    \n",
        "    if len(num)%2 == 0:\n",
        "      for i in range(len(num)//2):\n",
        "        if num[i] != num[len(num)-1-i]:\n",
        "          return False\n",
        "\n",
        "    else:\n",
        "      for i in range(len(num)//2):\n",
        "        if num[i] != num[len(num)-1-i]:\n",
        "          return False \n",
        "    \n",
        "    return True\n",
        "\n",
        "\n",
        "isPalindrome(3223)\n"
      ],
      "execution_count": 1,
      "outputs": [
        {
          "output_type": "execute_result",
          "data": {
            "text/plain": [
              "True"
            ]
          },
          "metadata": {},
          "execution_count": 1
        }
      ]
    }
  ]
}