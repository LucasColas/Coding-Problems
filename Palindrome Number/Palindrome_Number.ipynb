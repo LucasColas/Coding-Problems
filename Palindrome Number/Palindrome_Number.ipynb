{
  "nbformat": 4,
  "nbformat_minor": 0,
  "metadata": {
    "colab": {
      "name": "Palindrome Number.ipynb",
      "provenance": [],
      "authorship_tag": "ABX9TyNCt2MVNNTnRHeufJZHrtSw",
      "include_colab_link": true
    },
    "kernelspec": {
      "name": "python3",
      "display_name": "Python 3"
    },
    "language_info": {
      "name": "python"
    }
  },
  "cells": [
    {
      "cell_type": "markdown",
      "metadata": {
        "id": "view-in-github",
        "colab_type": "text"
      },
      "source": [
        "<a href=\"https://colab.research.google.com/github/LucasColas/Coding-Problems/blob/main/Palindrome%20Number/Palindrome_Number.ipynb\" target=\"_parent\"><img src=\"https://colab.research.google.com/assets/colab-badge.svg\" alt=\"Open In Colab\"/></a>"
      ]
    },
    {
      "cell_type": "markdown",
      "metadata": {
        "id": "rsPf2P0jzJBr"
      },
      "source": [
        "# Palindrome Number\n",
        "\n",
        "Given an integer x, return true if x is palindrome integer.\n",
        "\n",
        "An integer is a palindrome when it reads the same backward as forward. For example, 121 is palindrome while 123 is not.\n",
        "\n",
        "Input: x = -121\n",
        "\n",
        "Output: false\n",
        "\n",
        "Explanation: From left to right, it reads -121. From right to left, it becomes 121-. Therefore it is not a palindrome.\n",
        "\n",
        "From [Leetcode](https://leetcode.com/problems/palindrome-number/)."
      ]
    },
    {
      "cell_type": "code",
      "metadata": {
        "colab": {
          "base_uri": "https://localhost:8080/"
        },
        "id": "yhPlOD_2zE5X",
        "outputId": "739adff9-1536-4ec4-a738-fcf2beb5c8b7"
      },
      "source": [
        "def isPalindrome(x):\n",
        "  if x < 0:\n",
        "    return False\n",
        "  \n",
        "  else:\n",
        "    num = []\n",
        "    while x > 9:\n",
        "      n = x%10\n",
        "      num.append(n)\n",
        "      x //=10\n",
        "    num.append(x)\n",
        "    \n",
        "    \n",
        "    for i in range(len(num)//2):\n",
        "      if num[i] != num[len(num)-1-i]:\n",
        "        return False \n",
        "    \n",
        "    return True\n",
        "\n",
        "\n",
        "isPalindrome(3223)\n"
      ],
      "execution_count": 1,
      "outputs": [
        {
          "output_type": "execute_result",
          "data": {
            "text/plain": [
              "True"
            ]
          },
          "metadata": {},
          "execution_count": 1
        }
      ]
    },
    {
      "cell_type": "markdown",
      "metadata": {
        "id": "bgHE-cN61Dnf"
      },
      "source": [
        "Other possibility"
      ]
    },
    {
      "cell_type": "code",
      "metadata": {
        "id": "8u2fJl_A1BTQ"
      },
      "source": [
        "def isPalindrome(self, x: int) -> bool:\n",
        "  return str(x) == str(x)[::-1]"
      ],
      "execution_count": null,
      "outputs": []
    }
  ]
}