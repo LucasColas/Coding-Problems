{
  "nbformat": 4,
  "nbformat_minor": 0,
  "metadata": {
    "colab": {
      "name": "Remove Element.ipynb",
      "provenance": [],
      "authorship_tag": "ABX9TyM3kF+wJ6lvP0nr0xorZhah",
      "include_colab_link": true
    },
    "kernelspec": {
      "name": "python3",
      "display_name": "Python 3"
    },
    "language_info": {
      "name": "python"
    }
  },
  "cells": [
    {
      "cell_type": "markdown",
      "metadata": {
        "id": "view-in-github",
        "colab_type": "text"
      },
      "source": [
        "<a href=\"https://colab.research.google.com/github/LucasColas/Coding-Problems/blob/main/Remove%20Element/Remove_Element.ipynb\" target=\"_parent\"><img src=\"https://colab.research.google.com/assets/colab-badge.svg\" alt=\"Open In Colab\"/></a>"
      ]
    },
    {
      "cell_type": "markdown",
      "metadata": {
        "id": "VZqOtcsI4Fdy"
      },
      "source": [
        "# Remove Element\n",
        "\n",
        "from [Leetcode](https://leetcode.com/problems/remove-element/)."
      ]
    },
    {
      "cell_type": "code",
      "metadata": {
        "colab": {
          "base_uri": "https://localhost:8080/"
        },
        "id": "1PKmCvKfxv5x",
        "outputId": "b5ac1d45-e8e3-4b15-a3be-6c1db8dde882"
      },
      "source": [
        "def RemoveElement(nums, val):\n",
        "  index = 0\n",
        "  nb = 0\n",
        "  for i in range(0,len(nums)):\n",
        "    if nums[i] != val:\n",
        "      nums[index] = nums[i]\n",
        "      index += 1\n",
        "      #print(nums, i, index)\n",
        "\n",
        "    else:\n",
        "      nb += 1\n",
        "\n",
        "    if i == len(nums)-1 and nums[i] == val:\n",
        "      nums[i] = nums[0]\n",
        "\n",
        "  #print(nums)\n",
        "  return len(nums)-nb\n",
        "\n",
        "RemoveElement([3,2,2,3], 3)\n"
      ],
      "execution_count": 3,
      "outputs": [
        {
          "output_type": "stream",
          "name": "stdout",
          "text": [
            "[2, 2, 2, 2]\n"
          ]
        },
        {
          "output_type": "execute_result",
          "data": {
            "text/plain": [
              "2"
            ]
          },
          "metadata": {},
          "execution_count": 3
        }
      ]
    }
  ]
}