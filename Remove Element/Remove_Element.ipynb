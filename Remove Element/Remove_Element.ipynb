{
  "nbformat": 4,
  "nbformat_minor": 0,
  "metadata": {
    "colab": {
      "name": "Remove Element.ipynb",
      "provenance": [],
      "authorship_tag": "ABX9TyOmXfX1ZNrG0ftmKBHDqHUd",
      "include_colab_link": true
    },
    "kernelspec": {
      "name": "python3",
      "display_name": "Python 3"
    },
    "language_info": {
      "name": "python"
    }
  },
  "cells": [
    {
      "cell_type": "markdown",
      "metadata": {
        "id": "view-in-github",
        "colab_type": "text"
      },
      "source": [
        "<a href=\"https://colab.research.google.com/github/LucasColas/Coding-Problems/blob/main/Remove%20Element/Remove_Element.ipynb\" target=\"_parent\"><img src=\"https://colab.research.google.com/assets/colab-badge.svg\" alt=\"Open In Colab\"/></a>"
      ]
    },
    {
      "cell_type": "code",
      "metadata": {
        "id": "1c2rkhHJxtjg"
      },
      "source": [
        "def RemoveElement(nums, val): \n",
        "  index = 0\n",
        "  \n",
        "  for i in range(0,len(nums)):\n",
        "    if nums[i] != val:\n",
        "      nums[index] = nums[i]\n",
        "      index += 1\n",
        "      print(nums, i, index)\n",
        "\n",
        "    if i == len(nums)-1 and nums[i] == val:\n",
        "      nums[i] = nums[0]\n",
        "\n",
        "  return index, nums\n",
        "\n",
        "RemoveElement([3,2,2,3], 3)"
      ],
      "execution_count": null,
      "outputs": []
    },
    {
      "cell_type": "code",
      "metadata": {
        "colab": {
          "base_uri": "https://localhost:8080/"
        },
        "id": "1PKmCvKfxv5x",
        "outputId": "646a04ce-59c2-4ac7-a99b-42f757979021"
      },
      "source": [
        "def RemoveElement2(nums, val):\n",
        "  index = 0\n",
        "  nb = 0\n",
        "  for i in range(0,len(nums)):\n",
        "    if nums[i] != val:\n",
        "      nums[index] = nums[i]\n",
        "      index += 1\n",
        "      #print(nums, i, index)\n",
        "\n",
        "    else:\n",
        "      nb += 1\n",
        "\n",
        "    if i == len(nums)-1 and nums[i] == val:\n",
        "      nums[i] = nums[0]\n",
        "\n",
        "  return len(nums)-nb\n",
        "\n",
        "RemoveElement2([0,1,2,2,3,0,4,2], 2)\n"
      ],
      "execution_count": 3,
      "outputs": [
        {
          "output_type": "execute_result",
          "data": {
            "text/plain": [
              "5"
            ]
          },
          "metadata": {},
          "execution_count": 3
        }
      ]
    }
  ]
}