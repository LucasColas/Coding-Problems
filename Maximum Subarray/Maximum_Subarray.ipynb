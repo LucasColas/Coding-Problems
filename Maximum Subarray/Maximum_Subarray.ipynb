{
  "nbformat": 4,
  "nbformat_minor": 0,
  "metadata": {
    "colab": {
      "name": "Maximum Subarray.ipynb",
      "provenance": [],
      "authorship_tag": "ABX9TyOmcrQKrnWApa/UGi3OQRPm",
      "include_colab_link": true
    },
    "kernelspec": {
      "name": "python3",
      "display_name": "Python 3"
    },
    "language_info": {
      "name": "python"
    }
  },
  "cells": [
    {
      "cell_type": "markdown",
      "metadata": {
        "id": "view-in-github",
        "colab_type": "text"
      },
      "source": [
        "<a href=\"https://colab.research.google.com/github/LucasColas/Coding-Problems/blob/main/Maximum%20Subarray/Maximum_Subarray.ipynb\" target=\"_parent\"><img src=\"https://colab.research.google.com/assets/colab-badge.svg\" alt=\"Open In Colab\"/></a>"
      ]
    },
    {
      "cell_type": "markdown",
      "metadata": {
        "id": "BnWr_rCPild9"
      },
      "source": [
        "# Maximum Subarray\n",
        "\n",
        "Given an integer array nums, find the contiguous subarray (containing at least one number) which has the largest sum and return its sum.\n",
        "\n",
        "A subarray is a contiguous part of an array..\n",
        "\n",
        "From [Leetcode](https://leetcode.com/problems/maximum-subarray/)."
      ]
    },
    {
      "cell_type": "code",
      "metadata": {
        "colab": {
          "base_uri": "https://localhost:8080/"
        },
        "id": "gA7UJ4tZifht",
        "outputId": "41b7a94f-c5c4-45e0-fe99-3adeec45ffbd"
      },
      "source": [
        "from math import inf\n",
        "\n",
        "def MaxSubarray(nums):\n",
        "  maxsum = -inf\n",
        "  for i in range(len(nums)):\n",
        "    currsum = 0\n",
        "    for j in range(i, len(nums)):\n",
        "      currsum += nums[j]\n",
        "      if currsum > maxsum:\n",
        "        maxsum = currsum\n",
        "\n",
        "  return maxsum\n",
        "\n",
        "\n",
        "MaxSubarray([-2,-11,-13,-2,-14,-9,-5,-15,-3])"
      ],
      "execution_count": null,
      "outputs": [
        {
          "output_type": "execute_result",
          "data": {
            "text/plain": [
              "-2"
            ]
          },
          "metadata": {},
          "execution_count": 5
        }
      ]
    },
    {
      "cell_type": "code",
      "metadata": {
        "colab": {
          "base_uri": "https://localhost:8080/"
        },
        "id": "gOta2Xtijg2f",
        "outputId": "a4161057-4662-4272-db28-dab743e14f7f"
      },
      "source": [
        "MaxSubarray([-2,1,-3,4,-1,2,1,-5,4])"
      ],
      "execution_count": null,
      "outputs": [
        {
          "output_type": "execute_result",
          "data": {
            "text/plain": [
              "6"
            ]
          },
          "metadata": {},
          "execution_count": 6
        }
      ]
    },
    {
      "cell_type": "code",
      "metadata": {
        "colab": {
          "base_uri": "https://localhost:8080/"
        },
        "id": "KvTKLQN6cG1c",
        "outputId": "911b0ef0-04df-4b04-bf23-d5a3829a19a6"
      },
      "source": [
        "def MaxSubarray2(nums, maximum=0):\n",
        "  if len(nums) <= 1:\n",
        "    #print(nums)\n",
        "    return nums[0]\n",
        "\n",
        "  else:\n",
        "    print(nums, maximum)\n",
        "    return maximum + max(MaxSubarray2(nums[0:len(nums)//2], maximum), MaxSubarray2(nums[len(nums)//2:len(nums)], maximum))\n",
        "\n",
        "MaxSubarray2([-2,1,-3,4,-1,2,1,-5,4])"
      ],
      "execution_count": 1,
      "outputs": [
        {
          "output_type": "stream",
          "name": "stdout",
          "text": [
            "[-2, 1, -3, 4, -1, 2, 1, -5, 4] 0\n",
            "[-2, 1, -3, 4] 0\n",
            "[-2, 1] 0\n",
            "[-3, 4] 0\n",
            "[-1, 2, 1, -5, 4] 0\n",
            "[-1, 2] 0\n",
            "[1, -5, 4] 0\n",
            "[-5, 4] 0\n"
          ]
        },
        {
          "output_type": "execute_result",
          "data": {
            "text/plain": [
              "4"
            ]
          },
          "metadata": {},
          "execution_count": 1
        }
      ]
    },
    {
      "cell_type": "markdown",
      "metadata": {
        "id": "rVe62B1KnkFE"
      },
      "source": [
        "#Kadane's Algorithm"
      ]
    },
    {
      "cell_type": "code",
      "metadata": {
        "colab": {
          "base_uri": "https://localhost:8080/"
        },
        "id": "J2Ymq9J3l9XU",
        "outputId": "dde639fd-6bb7-4e49-b9c7-abe095c451eb"
      },
      "source": [
        "from math import inf\n",
        "\n",
        "def MaxSubarray3(nums):\n",
        "  best_sum = -inf\n",
        "  curr_sum = 0\n",
        "  for i in nums:\n",
        "    curr_sum = max(i, curr_sum+i)\n",
        "    best_sum = max(curr_sum, best_sum)\n",
        "    \n",
        "      \n",
        "  return best_sum\n",
        "\n",
        "\n",
        "MaxSubarray3([-1])"
      ],
      "execution_count": 4,
      "outputs": [
        {
          "output_type": "execute_result",
          "data": {
            "text/plain": [
              "-1"
            ]
          },
          "metadata": {},
          "execution_count": 4
        }
      ]
    }
  ]
}