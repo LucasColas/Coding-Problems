{
  "nbformat": 4,
  "nbformat_minor": 0,
  "metadata": {
    "colab": {
      "name": "Merge Two Sorted Lists.ipynb",
      "provenance": [],
      "authorship_tag": "ABX9TyN6n4CkHLxS6B2TrIFpCjpG",
      "include_colab_link": true
    },
    "kernelspec": {
      "name": "python3",
      "display_name": "Python 3"
    },
    "language_info": {
      "name": "python"
    }
  },
  "cells": [
    {
      "cell_type": "markdown",
      "metadata": {
        "id": "view-in-github",
        "colab_type": "text"
      },
      "source": [
        "<a href=\"https://colab.research.google.com/github/LucasColas/Coding-Problems/blob/main/Merge%20Two%20Sorted%20Lists/Merge_Two_Sorted_Lists.ipynb\" target=\"_parent\"><img src=\"https://colab.research.google.com/assets/colab-badge.svg\" alt=\"Open In Colab\"/></a>"
      ]
    },
    {
      "cell_type": "markdown",
      "metadata": {
        "id": "WGjhWpTH3uNZ"
      },
      "source": [
        "From [Leetcode](https://leetcode.com/problems/merge-two-sorted-lists/)."
      ]
    },
    {
      "cell_type": "code",
      "metadata": {
        "id": "YIUhYNxJ3rO9",
        "colab": {
          "base_uri": "https://localhost:8080/"
        },
        "outputId": "2bcf51c5-9f56-4d0e-8c0d-8a6deae61e97"
      },
      "source": [
        "def mergeTwoLists(l1, l2):\n",
        "  unsorted_list = l1+l\n",
        "\n",
        "  if len(unsorted_list) <= 1:\n",
        "    return unsorted_list\n",
        "\n",
        "\n",
        "  else:\n",
        "    \n",
        "    for i in range(len(unsorted_list)):\n",
        "      min = i\n",
        "      for j in range(i+1, len(unsorted_list)):\n",
        "        if unsorted_list[min] > unsorted_list[j]:\n",
        "          min = j\n",
        "\n",
        "      unsorted_list[i], unsorted_list[min] = unsorted_list[min], unsorted_list[i]\n",
        "\n",
        "\n",
        "    return unsorted_list\n",
        "\n",
        "\n",
        "mergeTwoLists([],[0])\n"
      ],
      "execution_count": 4,
      "outputs": [
        {
          "output_type": "stream",
          "name": "stdout",
          "text": [
            "unsorted_list\n"
          ]
        },
        {
          "output_type": "execute_result",
          "data": {
            "text/plain": [
              "[0]"
            ]
          },
          "metadata": {},
          "execution_count": 4
        }
      ]
    },
    {
      "cell_type": "markdown",
      "metadata": {
        "id": "Wqiy58750_sy"
      },
      "source": [
        "Merge two sorted lists with merge sort"
      ]
    },
    {
      "cell_type": "code",
      "metadata": {
        "colab": {
          "base_uri": "https://localhost:8080/"
        },
        "id": "K-N_KQYx0_O8",
        "outputId": "295e2a66-ad45-4955-a8a5-c22d85b08a9b"
      },
      "source": [
        "def MergeTwoSortedLists(l1, l2):\n",
        "  unsorted_list = l1+l2\n",
        "\n",
        "  if len(unsorted_list) <= 1: \n",
        "    return unsorted_list\n",
        "\n",
        "  else:\n",
        "    return MergeSort(unsorted_list[:len(unsorted_list)//2], unsorted_list[len(unsorted_list)//2:])\n",
        "\n",
        "\n",
        "def MergeSort(A, B):\n",
        "  if len(A) == 0:\n",
        "    return B\n",
        "\n",
        "  if len(B) == 0:\n",
        "    return A\n",
        "\n",
        "  if A[0] <= B[0]:\n",
        "    return [A[0]] + MergeSort(A[1:],B)\n",
        "\n",
        "  else:\n",
        "    return [B[0]] + MergeSort(A,B[1:])\n",
        "\n",
        "\n",
        "MergeTwoSortedLists([1,2,4],[1,3,4])"
      ],
      "execution_count": 9,
      "outputs": [
        {
          "output_type": "execute_result",
          "data": {
            "text/plain": [
              "[1, 1, 2, 3, 4, 4]"
            ]
          },
          "metadata": {},
          "execution_count": 9
        }
      ]
    },
    {
      "cell_type": "markdown",
      "metadata": {
        "id": "KyoD9I0_3ruH"
      },
      "source": [
        "Merge Two Sorted Linked Lists"
      ]
    },
    {
      "cell_type": "code",
      "metadata": {
        "id": "lQ4QZ6LU3rbY"
      },
      "source": [
        ""
      ],
      "execution_count": null,
      "outputs": []
    }
  ]
}