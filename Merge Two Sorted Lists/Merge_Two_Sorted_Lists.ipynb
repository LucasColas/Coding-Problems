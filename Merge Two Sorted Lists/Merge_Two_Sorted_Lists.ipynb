{
  "nbformat": 4,
  "nbformat_minor": 0,
  "metadata": {
    "colab": {
      "name": "Merge Two Sorted Lists.ipynb",
      "provenance": [],
      "authorship_tag": "ABX9TyNPIiUOu7wcuSIRzNM92eZk",
      "include_colab_link": true
    },
    "kernelspec": {
      "name": "python3",
      "display_name": "Python 3"
    },
    "language_info": {
      "name": "python"
    }
  },
  "cells": [
    {
      "cell_type": "markdown",
      "metadata": {
        "id": "view-in-github",
        "colab_type": "text"
      },
      "source": [
        "<a href=\"https://colab.research.google.com/github/LucasColas/Coding-Problems/blob/main/Merge%20Two%20Sorted%20Lists/Merge_Two_Sorted_Lists.ipynb\" target=\"_parent\"><img src=\"https://colab.research.google.com/assets/colab-badge.svg\" alt=\"Open In Colab\"/></a>"
      ]
    },
    {
      "cell_type": "markdown",
      "metadata": {
        "id": "WGjhWpTH3uNZ"
      },
      "source": [
        "From [Leetcode](https://leetcode.com/problems/merge-two-sorted-lists/)."
      ]
    },
    {
      "cell_type": "code",
      "metadata": {
        "id": "z_sC_YlnP9zz"
      },
      "source": [
        "# Definition for singly-linked list.\n",
        "# class ListNode:\n",
        "#     def __init__(self, val=0, next=None):\n",
        "#         self.val = val\n",
        "#         self.next = next\n",
        "class Solution:\n",
        "    def mergeTwoLists(self, l1: Optional[ListNode], l2: Optional[ListNode]) -> Optional[ListNode]:\n",
        "        dummy = ListNode() \n",
        "        tail = dummy \n",
        "        \n",
        "        while l1 and l2:\n",
        "            \n",
        "            if l1.val <= l2.val:\n",
        "                tail.next = l1\n",
        "                l1 = l1.next\n",
        "                \n",
        "            else:\n",
        "                tail.next = l2\n",
        "                l2 = l2.next\n",
        "                \n",
        "            tail = tail.next\n",
        "            \n",
        "        tail.next = l1 or l2\n",
        "        \n",
        "        return dummy.next"
      ],
      "execution_count": null,
      "outputs": []
    }
  ]
}