{
  "nbformat": 4,
  "nbformat_minor": 0,
  "metadata": {
    "colab": {
      "name": "Merge Two Sorted Lists.ipynb",
      "provenance": [],
      "authorship_tag": "ABX9TyM3LQbB6dlWi8VquRMS06p3",
      "include_colab_link": true
    },
    "kernelspec": {
      "name": "python3",
      "display_name": "Python 3"
    },
    "language_info": {
      "name": "python"
    }
  },
  "cells": [
    {
      "cell_type": "markdown",
      "metadata": {
        "id": "view-in-github",
        "colab_type": "text"
      },
      "source": [
        "<a href=\"https://colab.research.google.com/github/LucasColas/Coding-Problems/blob/main/Merge%20Two%20Sorted%20Lists/Merge_Two_Sorted_Lists.ipynb\" target=\"_parent\"><img src=\"https://colab.research.google.com/assets/colab-badge.svg\" alt=\"Open In Colab\"/></a>"
      ]
    },
    {
      "cell_type": "markdown",
      "metadata": {
        "id": "WGjhWpTH3uNZ"
      },
      "source": [
        "From [Leetcode](https://leetcode.com/problems/merge-two-sorted-lists/)."
      ]
    },
    {
      "cell_type": "code",
      "metadata": {
        "id": "YIUhYNxJ3rO9"
      },
      "source": [
        "def mergeTwoLists(l1, l2):\n",
        "  unsorted_list = l1+l2\n",
        "  if len(unsorted_list) <= 1:\n",
        "    return unsorted_list\n",
        "\n",
        "  else:\n",
        "    sorted_list = []\n",
        "    for i in range(len(unsorted_list)):\n",
        "      min = i\n",
        "      for j in range(i+1, len(unsorted_list)):\n",
        "        if unsorted_list[min] > unsorted_list[j]:\n",
        "          min = j\n",
        "\n",
        "      unsorted_list[i], unsorted_list[min] = unsorted_list[min], unsorted_list[i]\n",
        "\n",
        "\n",
        "    return sorted_list\n"
      ],
      "execution_count": null,
      "outputs": []
    }
  ]
}