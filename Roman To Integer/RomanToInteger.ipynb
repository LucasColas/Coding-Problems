{
  "nbformat": 4,
  "nbformat_minor": 0,
  "metadata": {
    "colab": {
      "name": "RomanToInteger.ipynb",
      "provenance": [],
      "authorship_tag": "ABX9TyPg8bLmXBAkUuiaIvfn44Jn",
      "include_colab_link": true
    },
    "kernelspec": {
      "name": "python3",
      "display_name": "Python 3"
    },
    "language_info": {
      "name": "python"
    }
  },
  "cells": [
    {
      "cell_type": "markdown",
      "metadata": {
        "id": "view-in-github",
        "colab_type": "text"
      },
      "source": [
        "<a href=\"https://colab.research.google.com/github/LucasColas/Coding-Problems/blob/main/Roman%20To%20Integer/RomanToInteger.ipynb\" target=\"_parent\"><img src=\"https://colab.research.google.com/assets/colab-badge.svg\" alt=\"Open In Colab\"/></a>"
      ]
    },
    {
      "cell_type": "markdown",
      "metadata": {
        "id": "9S4O5X5t_jtA"
      },
      "source": [
        "# Roman To Integer\n",
        "\n",
        "Given a roman numeral, convert it to an integer.\n",
        "From [Leetcode](https://leetcode.com/problemset/all/?difficulty=EASY&page=1)."
      ]
    },
    {
      "cell_type": "code",
      "metadata": {
        "colab": {
          "base_uri": "https://localhost:8080/"
        },
        "id": "h4UcMWIS_fxp",
        "outputId": "77f3e228-eacc-44d8-fabf-4a3b3be70432"
      },
      "source": [
        "def romanToInt(s):\n",
        "  Dico = {'I': 1, 'V':5, 'X':10, 'L':50, 'C':100, 'D':500, 'M':1000}\n",
        "\n",
        "  Dico_2 = {'IV':4, 'IX':9, 'XL':40, 'XC':90, 'CD':400, 'CM':900}\n",
        "\n",
        "  i=0\n",
        "  num = 0 \n",
        "  while i <= len(s)-1:\n",
        "    \n",
        "    if i+1 <= len(s) - 1:\n",
        "      if s[i:i+2] in Dico_2:\n",
        "        num += Dico_2[s[i:i+2]]\n",
        "        print(num)\n",
        "        i += 2\n",
        "\n",
        "      else:\n",
        "        num += Dico[s[i]]\n",
        "        print(num)\n",
        "        i += 1\n",
        "\n",
        "    else:\n",
        "      num += Dico[s[i]]\n",
        "      print(num)\n",
        "      i += 1\n",
        "\n",
        "  return num\n",
        "  \n",
        "  \n",
        "\n",
        "\n",
        "romanToInt('MCMXCIV')\n",
        "\n",
        "      "
      ],
      "execution_count": 1,
      "outputs": [
        {
          "output_type": "stream",
          "name": "stdout",
          "text": [
            "1000\n",
            "1900\n",
            "1990\n",
            "1994\n"
          ]
        },
        {
          "output_type": "execute_result",
          "data": {
            "text/plain": [
              "1994"
            ]
          },
          "metadata": {},
          "execution_count": 1
        }
      ]
    }
  ]
}