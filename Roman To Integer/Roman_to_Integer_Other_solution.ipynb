{
  "nbformat": 4,
  "nbformat_minor": 0,
  "metadata": {
    "colab": {
      "name": "Roman to Integer - Other solution.ipynb",
      "provenance": [],
      "authorship_tag": "ABX9TyNdaBB9W/4HtYXCVbFcA8j5",
      "include_colab_link": true
    },
    "kernelspec": {
      "name": "python3",
      "display_name": "Python 3"
    },
    "language_info": {
      "name": "python"
    }
  },
  "cells": [
    {
      "cell_type": "markdown",
      "metadata": {
        "id": "view-in-github",
        "colab_type": "text"
      },
      "source": [
        "<a href=\"https://colab.research.google.com/github/LucasColas/Coding-Problems/blob/main/Roman%20To%20Integer/Roman_to_Integer_Other_solution.ipynb\" target=\"_parent\"><img src=\"https://colab.research.google.com/assets/colab-badge.svg\" alt=\"Open In Colab\"/></a>"
      ]
    },
    {
      "cell_type": "markdown",
      "metadata": {
        "id": "2493RqCtIIYE"
      },
      "source": [
        "Given a roman numeral, convert it to an integer.\n",
        "From [Leetcode](https://leetcode.com/problems/roman-to-integer/)."
      ]
    },
    {
      "cell_type": "code",
      "metadata": {
        "colab": {
          "base_uri": "https://localhost:8080/"
        },
        "id": "vZzf87UgIBar",
        "outputId": "7faf51ef-eb2a-4783-aeb3-23202b64d8d6"
      },
      "source": [
        "def RomanToInteger(s):\n",
        "  dic = {\n",
        "      'I': 1,\n",
        "      \"V\": 5,\n",
        "      \"X\": 10,\n",
        "      \"L\":50,\n",
        "      \"C\":100,\n",
        "      \"D\":500,\n",
        "      \"M\":1000,\n",
        "      \"IV\": 4,\n",
        "      \"IX\":9,\n",
        "      \"XL\":40,\n",
        "      \"XC\":50,\n",
        "      \"CD\":400,\n",
        "      \"CM\":900\n",
        "  }\n",
        "  num = 0\n",
        "\n",
        "  while s != '':\n",
        "    for key in dic:\n",
        "      if key in s:\n",
        "        num += dic[key]\n",
        "        s = s.replace(key,'',1)\n",
        "\n",
        "      #print(num)\n",
        "\n",
        "  return num\n",
        "\n",
        "RomanToInteger(\"LVIII\")"
      ],
      "execution_count": 12,
      "outputs": [
        {
          "output_type": "execute_result",
          "data": {
            "text/plain": [
              "58"
            ]
          },
          "metadata": {},
          "execution_count": 12
        }
      ]
    }
  ]
}