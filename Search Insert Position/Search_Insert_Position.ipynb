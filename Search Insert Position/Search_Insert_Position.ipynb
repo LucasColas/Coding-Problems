{
  "nbformat": 4,
  "nbformat_minor": 0,
  "metadata": {
    "colab": {
      "name": "Search Insert Position.ipynb",
      "provenance": [],
      "authorship_tag": "ABX9TyOpsLDSJ/8la68qF8tCQreB",
      "include_colab_link": true
    },
    "kernelspec": {
      "name": "python3",
      "display_name": "Python 3"
    },
    "language_info": {
      "name": "python"
    }
  },
  "cells": [
    {
      "cell_type": "markdown",
      "metadata": {
        "id": "view-in-github",
        "colab_type": "text"
      },
      "source": [
        "<a href=\"https://colab.research.google.com/github/LucasColas/Coding-Problems/blob/main/Search%20Insert%20Position/Search_Insert_Position.ipynb\" target=\"_parent\"><img src=\"https://colab.research.google.com/assets/colab-badge.svg\" alt=\"Open In Colab\"/></a>"
      ]
    },
    {
      "cell_type": "markdown",
      "metadata": {
        "id": "tc4fNcJvR-Ot"
      },
      "source": [
        "Given a sorted array of distinct integers and a target value, return the index if the target is found. If not, return the index where it would be if it were inserted in order.\n",
        "From [Leetcode](https://leetcode.com/problems/search-insert-position/)."
      ]
    },
    {
      "cell_type": "code",
      "metadata": {
        "id": "JrbizhaQRvzy"
      },
      "source": [
        "#Brute solution\n",
        "def searchInsert(nums, Target):\n",
        "  for i in range(len(nums)):\n",
        "    if nums[i] == Target:\n",
        "      return i\n",
        "\n",
        "  for i in range(len(nums)):\n",
        "    if nums[i] >= Target:\n",
        "      return i\n",
        "\n",
        "  return len(nums)\n"
      ],
      "execution_count": null,
      "outputs": []
    },
    {
      "cell_type": "code",
      "metadata": {
        "colab": {
          "base_uri": "https://localhost:8080/"
        },
        "id": "BVZLAK4gSWh-",
        "outputId": "3623e004-10d9-40b2-9163-338dc450b6c2"
      },
      "source": [
        "searchInsert([1,3,5,6], 7)"
      ],
      "execution_count": null,
      "outputs": [
        {
          "output_type": "execute_result",
          "data": {
            "text/plain": [
              "4"
            ]
          },
          "metadata": {},
          "execution_count": 11
        }
      ]
    },
    {
      "cell_type": "code",
      "metadata": {
        "colab": {
          "base_uri": "https://localhost:8080/"
        },
        "id": "7T01y0tHS96f",
        "outputId": "4d98973f-f1f9-4316-b4e9-1735d09ec29c"
      },
      "source": [
        "def searchInsert2(nums, Target):\n",
        "  index = 0\n",
        "  for i in range(len(nums)):\n",
        "    if nums[i] == Target:\n",
        "      #print(nums[i], Target)\n",
        "      return i\n",
        "\n",
        "    if nums[i] >= Target and nums[i-1] <= Target:\n",
        "      #print(\"num index\")\n",
        "      index = i\n",
        "\n",
        "  if nums[len(nums)-1] <= Target:\n",
        "    #print(\"last index\")\n",
        "    return len(nums)\n",
        "\n",
        "  else:\n",
        "    #print(\"return index\")\n",
        "    return index\n",
        "\n",
        "\n",
        "searchInsert2([1,3,5,6], 7)"
      ],
      "execution_count": null,
      "outputs": [
        {
          "output_type": "execute_result",
          "data": {
            "text/plain": [
              "4"
            ]
          },
          "metadata": {},
          "execution_count": 4
        }
      ]
    },
    {
      "cell_type": "code",
      "metadata": {
        "id": "7TE92t4z3iGO",
        "colab": {
          "base_uri": "https://localhost:8080/"
        },
        "outputId": "4eb9d3bb-cc49-45f7-a33a-a65dfa0d1015"
      },
      "source": [
        "def SIP_BinarySearch(nums, target):\n",
        "  if nums[len(nums)-1] < target:\n",
        "    return len(nums) \n",
        "\n",
        "\n",
        "  start, end = 0, len(nums)-1\n",
        "  \n",
        "  while start <= end:\n",
        "    m = (start+end)//2\n",
        "    \n",
        "    if nums[m] == target:\n",
        "      return m\n",
        "\n",
        "    else:\n",
        "      if target < nums[m] and target > nums[m-1]:\n",
        "        return m\n",
        "\n",
        "      elif target > nums[m]:\n",
        "        start = m + 1\n",
        "\n",
        "      else:\n",
        "        end = m-1\n",
        "    \n",
        "    if not (start <= end):\n",
        "      return m\n",
        "\n",
        "\n",
        "\n",
        "SIP_BinarySearch([1,3,5,6], 0)"
      ],
      "execution_count": 18,
      "outputs": [
        {
          "output_type": "execute_result",
          "data": {
            "text/plain": [
              "0"
            ]
          },
          "metadata": {},
          "execution_count": 18
        }
      ]
    },
    {
      "cell_type": "code",
      "metadata": {
        "id": "qwRQEGGI2QTO"
      },
      "source": [
        "#TODO \n",
        "\n",
        "def SIP_BinarySearch_Rec(nums, target):\n",
        "  m = len(nums)//2\n",
        "  if nums[m] == target:\n",
        "    return m\n",
        "\n",
        "  if nums[m] > target:\n",
        "    return SIP_BinarySearch(nums[:m], target)\n",
        "\n",
        "  else:\n",
        "    return m+SIP_BinarySearch(nums[m:], target)\n",
        "\n",
        "\n"
      ],
      "execution_count": null,
      "outputs": []
    }
  ]
}