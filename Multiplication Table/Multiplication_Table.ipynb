{
  "nbformat": 4,
  "nbformat_minor": 0,
  "metadata": {
    "colab": {
      "name": "Multiplication Table.ipynb",
      "provenance": [],
      "authorship_tag": "ABX9TyONmP3esvxHgIqzSxi/WnEd",
      "include_colab_link": true
    },
    "kernelspec": {
      "name": "python3",
      "display_name": "Python 3"
    },
    "language_info": {
      "name": "python"
    }
  },
  "cells": [
    {
      "cell_type": "markdown",
      "metadata": {
        "id": "view-in-github",
        "colab_type": "text"
      },
      "source": [
        "<a href=\"https://colab.research.google.com/github/LucasColas/Coding-Problems/blob/main/Multiplication%20Table/Multiplication_Table.ipynb\" target=\"_parent\"><img src=\"https://colab.research.google.com/assets/colab-badge.svg\" alt=\"Open In Colab\"/></a>"
      ]
    },
    {
      "cell_type": "markdown",
      "metadata": {
        "id": "pngQ3zBnO_Ma"
      },
      "source": [
        "**Multiplication Table**\n",
        "\n",
        "Print the multiplication table of a given number N.\n",
        "\n",
        "\n",
        "You don't need to read input. \n",
        "\n",
        "Your task is to complete the function getTable() which takes an integer N as input parameter and returns a list of integers denoting the multiplication of table of N from 1 to 10. \n",
        "\n",
        "Multiplication from [GeeksForGeeks](https://practice.geeksforgeeks.org/problems/print-table0303/1).\n"
      ]
    },
    {
      "cell_type": "code",
      "metadata": {
        "colab": {
          "base_uri": "https://localhost:8080/"
        },
        "id": "4yYnEG5nO85o",
        "outputId": "dd8800e6-5b74-4bef-cd86-868855d899b7"
      },
      "source": [
        "def getTable(N):\n",
        "  for i in range(1, 11):\n",
        "    R = N*i\n",
        "    print(R)\n",
        "\n",
        "\n",
        "getTable(9)"
      ],
      "execution_count": 1,
      "outputs": [
        {
          "output_type": "stream",
          "name": "stdout",
          "text": [
            "9\n",
            "18\n",
            "27\n",
            "36\n",
            "45\n",
            "54\n",
            "63\n",
            "72\n",
            "81\n",
            "90\n"
          ]
        }
      ]
    }
  ]
}