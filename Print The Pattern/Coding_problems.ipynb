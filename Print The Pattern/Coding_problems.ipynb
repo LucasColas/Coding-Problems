{
  "nbformat": 4,
  "nbformat_minor": 0,
  "metadata": {
    "colab": {
      "name": "Coding problems.ipynb",
      "provenance": [],
      "authorship_tag": "ABX9TyOdwzgwXH39nTsUNPtcVJpZ",
      "include_colab_link": true
    },
    "kernelspec": {
      "name": "python3",
      "display_name": "Python 3"
    },
    "language_info": {
      "name": "python"
    }
  },
  "cells": [
    {
      "cell_type": "markdown",
      "metadata": {
        "id": "view-in-github",
        "colab_type": "text"
      },
      "source": [
        "<a href=\"https://colab.research.google.com/github/LucasColas/Coding-Problems/blob/main/Print%20The%20Pattern/Coding_problems.ipynb\" target=\"_parent\"><img src=\"https://colab.research.google.com/assets/colab-badge.svg\" alt=\"Open In Colab\"/></a>"
      ]
    },
    {
      "cell_type": "markdown",
      "metadata": {
        "id": "YraqfrMYJ_jr"
      },
      "source": [
        "You a given a number N. You need to print the pattern for the given value of N.\n",
        "\n",
        "\n",
        "\n",
        "\n",
        "for N = 2 the pattern will be \n",
        "\n",
        "2 2 1 1\n",
        "\n",
        "2 1\n",
        "\n",
        "\n",
        "for N = 3 the pattern will be \n",
        "\n",
        "3 3 3 2 2 2 1 1 1\n",
        "\n",
        "3 3 2 2 1 1\n",
        "\n",
        "3 2 1\n",
        "\n",
        "Since this is a function problem, you don't need to worry about the testcases. Your task is to complete the function printPat which takes one argument 'N' denoting the length of the pattern.\n",
        "\n",
        "Problème posé par [GeeksForGeeks](https://practice.geeksforgeeks.org/problems/print-the-pattern-set-1/1)"
      ]
    },
    {
      "cell_type": "code",
      "metadata": {
        "colab": {
          "base_uri": "https://localhost:8080/"
        },
        "id": "rH8jksPRJ4bH",
        "outputId": "12a861d6-5abe-4b5c-cdcb-fa447464201d"
      },
      "source": [
        "def printPat(n):\n",
        "  for m in range(n):\n",
        "    for i in range(n, 0, -1):\n",
        "      for j in range(n-m):\n",
        "        print(i, end=\"\")\n",
        "    print()\n",
        "  \n",
        "  \n",
        "printPat(3)\n",
        "\n"
      ],
      "execution_count": 1,
      "outputs": [
        {
          "output_type": "stream",
          "name": "stdout",
          "text": [
            "333222111\n",
            "332211\n",
            "321\n"
          ]
        }
      ]
    }
  ]
}