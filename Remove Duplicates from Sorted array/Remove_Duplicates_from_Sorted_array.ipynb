{
  "nbformat": 4,
  "nbformat_minor": 0,
  "metadata": {
    "colab": {
      "name": "Remove Duplicates from Sorted array.ipynb",
      "provenance": [],
      "authorship_tag": "ABX9TyOV6HjdrINxGYR5BHadrHKJ",
      "include_colab_link": true
    },
    "kernelspec": {
      "name": "python3",
      "display_name": "Python 3"
    },
    "language_info": {
      "name": "python"
    }
  },
  "cells": [
    {
      "cell_type": "markdown",
      "metadata": {
        "id": "view-in-github",
        "colab_type": "text"
      },
      "source": [
        "<a href=\"https://colab.research.google.com/github/LucasColas/Coding-Problems/blob/main/Remove%20Duplicates%20from%20Sorted%20array/Remove_Duplicates_from_Sorted_array.ipynb\" target=\"_parent\"><img src=\"https://colab.research.google.com/assets/colab-badge.svg\" alt=\"Open In Colab\"/></a>"
      ]
    },
    {
      "cell_type": "markdown",
      "metadata": {
        "id": "3ArXmbIkdaPi"
      },
      "source": [
        "From [Leetcode](https://leetcode.com/problems/remove-duplicates-from-sorted-array/)."
      ]
    },
    {
      "cell_type": "code",
      "metadata": {
        "colab": {
          "base_uri": "https://localhost:8080/"
        },
        "id": "FQQvfZTlY8b1",
        "outputId": "7ad40c2e-37b4-4fba-d18f-f31e1894f478"
      },
      "source": [
        "def removeDuplicates(nums):\n",
        "  for i in range(len(nums)):\n",
        "    for j in range(i+1, len(nums)):\n",
        "      if nums[i] == nums[j]:\n",
        "        nums[j] = \"_\"\n",
        "\n",
        "  for id, num in enumerate(nums):\n",
        "    print(len(nums))\n",
        "    if not isinstance(num, int):\n",
        "      i = id\n",
        "      while not isinstance(nums[i], int):\n",
        "        if i >= len(nums)-1:\n",
        "          break\n",
        "\n",
        "        i += 1\n",
        "\n",
        "        \n",
        "      nums[id], nums[i] = nums[i], nums[id]\n",
        "\n",
        "  return nums\n",
        "\n",
        "removeDuplicates([0,0,1,1,1,2,2,3,3,4])"
      ],
      "execution_count": 6,
      "outputs": [
        {
          "output_type": "stream",
          "name": "stdout",
          "text": [
            "10\n",
            "10\n",
            "10\n",
            "10\n",
            "10\n",
            "10\n",
            "10\n",
            "10\n",
            "10\n",
            "10\n",
            "[0, 1, 2, 3, 4, '_', '_', '_', '_', '_']\n"
          ]
        }
      ]
    }
  ]
}