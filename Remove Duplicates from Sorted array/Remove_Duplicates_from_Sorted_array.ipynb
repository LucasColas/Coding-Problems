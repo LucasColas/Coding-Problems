{
  "nbformat": 4,
  "nbformat_minor": 0,
  "metadata": {
    "colab": {
      "name": "Remove Duplicates from Sorted array.ipynb",
      "provenance": [],
      "authorship_tag": "ABX9TyOfOGjfH6XpLMsUaaihJDVd",
      "include_colab_link": true
    },
    "kernelspec": {
      "name": "python3",
      "display_name": "Python 3"
    },
    "language_info": {
      "name": "python"
    }
  },
  "cells": [
    {
      "cell_type": "markdown",
      "metadata": {
        "id": "view-in-github",
        "colab_type": "text"
      },
      "source": [
        "<a href=\"https://colab.research.google.com/github/LucasColas/Coding-Problems/blob/main/Remove%20Duplicates%20from%20Sorted%20array/Remove_Duplicates_from_Sorted_array.ipynb\" target=\"_parent\"><img src=\"https://colab.research.google.com/assets/colab-badge.svg\" alt=\"Open In Colab\"/></a>"
      ]
    },
    {
      "cell_type": "markdown",
      "metadata": {
        "id": "3ArXmbIkdaPi"
      },
      "source": [
        "From [Leetcode](https://leetcode.com/problems/remove-duplicates-from-sorted-array/)."
      ]
    },
    {
      "cell_type": "code",
      "metadata": {
        "colab": {
          "base_uri": "https://localhost:8080/"
        },
        "id": "tpHuSjIGjFti",
        "outputId": "5a5cc770-60d8-4dbb-afcb-71326cfb13c5"
      },
      "source": [
        "def RemoveDuplicates(nums):\n",
        "\n",
        "  if len(nums) == 0:\n",
        "    return 0\n",
        "  \n",
        "  id = 0\n",
        "  for i in range(len(nums)):\n",
        "    if nums[i] != nums[id]:\n",
        "      nums[id+1] = nums[i]\n",
        "      id += 1\n",
        "\n",
        "  return id+1\n",
        "\n",
        "RemoveDuplicates([0,0,1,1,1,2,2,3,3,4])"
      ],
      "execution_count": 7,
      "outputs": [
        {
          "output_type": "execute_result",
          "data": {
            "text/plain": [
              "5"
            ]
          },
          "metadata": {},
          "execution_count": 7
        }
      ]
    }
  ]
}