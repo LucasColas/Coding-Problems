{
  "nbformat": 4,
  "nbformat_minor": 0,
  "metadata": {
    "colab": {
      "name": "Unique Paths.ipynb",
      "provenance": [],
      "collapsed_sections": [],
      "authorship_tag": "ABX9TyO4EykJlKcNsHU+Gi8P2Qo+",
      "include_colab_link": true
    },
    "kernelspec": {
      "name": "python3",
      "display_name": "Python 3"
    },
    "language_info": {
      "name": "python"
    }
  },
  "cells": [
    {
      "cell_type": "markdown",
      "metadata": {
        "id": "view-in-github",
        "colab_type": "text"
      },
      "source": [
        "<a href=\"https://colab.research.google.com/github/LucasColas/Coding-Problems/blob/main/Unique%20Paths/Unique_Paths.ipynb\" target=\"_parent\"><img src=\"https://colab.research.google.com/assets/colab-badge.svg\" alt=\"Open In Colab\"/></a>"
      ]
    },
    {
      "cell_type": "markdown",
      "metadata": {
        "id": "VPTXH0-wKNwV"
      },
      "source": [
        "A robot is located at the top-left corner of a m x n grid (marked 'Start' in the diagram below).\n",
        "\n",
        "The robot can only move either down or right at any point in time. The robot is trying to reach the bottom-right corner of the grid (marked 'Finish' in the diagram below).\n",
        "\n",
        "From [Leetcode](https://leetcode.com/problems/unique-paths/)."
      ]
    },
    {
      "cell_type": "code",
      "metadata": {
        "colab": {
          "base_uri": "https://localhost:8080/"
        },
        "id": "vQGCsv_vJqxG",
        "outputId": "d904d317-5554-4c32-e070-031a3c172fd0"
      },
      "source": [
        "class Solution:\n",
        "    def uniquePaths(self, m, n):\n",
        "        grid = [[0 for i in range(n)] for j in range(m)]\n",
        "        return self.findPaths(grid, 0, 0)\n",
        "    \n",
        "    def findPaths(self, grid, i, j):\n",
        "        if i == len(grid[0])-1 and j==len(grid)-1:\n",
        "            return 1\n",
        "        \n",
        "        if i > len(grid[0])-1 or j > len(grid)-1:\n",
        "          return 0\n",
        "\n",
        "        return self.findPaths(grid, i+1,j) + self.findPaths(grid, i, j+1)\n",
        "\n",
        "\n",
        "Solution = Solution()\n",
        "Solution.uniquePaths(3,12)"
      ],
      "execution_count": null,
      "outputs": [
        {
          "output_type": "execute_result",
          "data": {
            "text/plain": [
              "78"
            ]
          },
          "metadata": {},
          "execution_count": 6
        }
      ]
    },
    {
      "cell_type": "markdown",
      "metadata": {
        "id": "xI6IfMHBZEVk"
      },
      "source": [
        "# Second Solution"
      ]
    },
    {
      "cell_type": "code",
      "metadata": {
        "colab": {
          "base_uri": "https://localhost:8080/"
        },
        "id": "GhXVgI5jXLyg",
        "outputId": "64d525af-8223-4f75-e595-f927ad261ea9"
      },
      "source": [
        "class Solution:\n",
        "    def uniquePaths(self, m, n):\n",
        "        return self.findPaths(m, n)\n",
        "    \n",
        "    def findPaths(self, m, n):\n",
        "      Mat = [[0 for i in range(n)] for j in range(m)]\n",
        "      for i in range(m):\n",
        "        for j in range(n):\n",
        "          if (i == 0 or j == 0):\n",
        "            #print(i,j)\n",
        "            Mat[i][j] = 1\n",
        "\n",
        "          else:\n",
        "            Mat[i][j] = Mat[i-1][j] + Mat[i][j-1]\n",
        "\n",
        "      return Mat[m-1][n-1]\n",
        "        \n",
        "\n",
        "\n",
        "Solution = Solution()\n",
        "Solution.uniquePaths(33,42)"
      ],
      "execution_count": 7,
      "outputs": [
        {
          "output_type": "execute_result",
          "data": {
            "text/plain": [
              "507829667681396572974"
            ]
          },
          "metadata": {},
          "execution_count": 7
        }
      ]
    }
  ]
}