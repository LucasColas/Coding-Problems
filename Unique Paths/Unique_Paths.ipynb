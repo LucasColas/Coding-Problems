{
  "nbformat": 4,
  "nbformat_minor": 0,
  "metadata": {
    "colab": {
      "name": "Unique Paths.ipynb",
      "provenance": [],
      "authorship_tag": "ABX9TyNTq6ZuMD/0TVCs48u751NC",
      "include_colab_link": true
    },
    "kernelspec": {
      "name": "python3",
      "display_name": "Python 3"
    },
    "language_info": {
      "name": "python"
    }
  },
  "cells": [
    {
      "cell_type": "markdown",
      "metadata": {
        "id": "view-in-github",
        "colab_type": "text"
      },
      "source": [
        "<a href=\"https://colab.research.google.com/github/LucasColas/Coding-Problems/blob/main/Unique%20Paths/Unique_Paths.ipynb\" target=\"_parent\"><img src=\"https://colab.research.google.com/assets/colab-badge.svg\" alt=\"Open In Colab\"/></a>"
      ]
    },
    {
      "cell_type": "markdown",
      "metadata": {
        "id": "VPTXH0-wKNwV"
      },
      "source": [
        "A robot is located at the top-left corner of a m x n grid (marked 'Start' in the diagram below).\n",
        "\n",
        "The robot can only move either down or right at any point in time. The robot is trying to reach the bottom-right corner of the grid (marked 'Finish' in the diagram below).\n",
        "\n",
        "From [Leetcode](https://leetcode.com/problems/unique-paths/)."
      ]
    },
    {
      "cell_type": "code",
      "metadata": {
        "colab": {
          "base_uri": "https://localhost:8080/"
        },
        "id": "vQGCsv_vJqxG",
        "outputId": "9b5c2da5-edcb-498a-a6c4-522e5a180132"
      },
      "source": [
        "class Solution:\n",
        "    def uniquePaths(self, m, n):\n",
        "        grid = [[0 for i in range(n)] for j in range(m)]\n",
        "        return self.findPaths(grid, 0, 0)\n",
        "    \n",
        "    def findPaths(self, grid, i, j):\n",
        "        if i >= len(grid[0])-1 and j>=len(grid)-1:\n",
        "            return 1\n",
        "        \n",
        "        elif i < len(grid[0])-1 and j < len(grid)-1:\n",
        "            return self.findPaths(grid, i+1,j) + self.findPaths(grid,i,j+1)\n",
        "        \n",
        "        elif j >= len(grid)-1:\n",
        "            return self.findPaths(grid, i+1,j)\n",
        "        \n",
        "        elif i >= len(grid[0])-1:\n",
        "            return self.findPaths(grid, i, j+1)\n",
        "\n",
        "\n",
        "Solution = Solution()\n",
        "Solution.uniquePaths(3,2)"
      ],
      "execution_count": 2,
      "outputs": [
        {
          "output_type": "execute_result",
          "data": {
            "text/plain": [
              "3"
            ]
          },
          "metadata": {},
          "execution_count": 2
        }
      ]
    },
    {
      "cell_type": "code",
      "metadata": {
        "colab": {
          "base_uri": "https://localhost:8080/"
        },
        "id": "gymJwwuwJ2dx",
        "outputId": "58f84615-0d6e-4765-a964-43361d5d8e71"
      },
      "source": [
        "class Solution2:\n",
        "    def uniquePaths(self, m, n):\n",
        "        #grid = [[0 for i in range(n)] for j in range(m)]\n",
        "        return self.findPaths(0, 0, m, n)\n",
        "    \n",
        "    def findPaths(self, i, j, m, n):\n",
        "        if i == n-1 and j == m-1:\n",
        "            return 1\n",
        "\n",
        "        if i > n-1 or j > m-1:\n",
        "          return 0\n",
        "        \n",
        "        return self.findPaths(i+1,j, m, n) + self.findPaths(i,j+1, m, n)\n",
        "\n",
        "\n",
        "Solution = Solution2()\n",
        "Solution.uniquePaths(23,12)"
      ],
      "execution_count": 7,
      "outputs": [
        {
          "output_type": "execute_result",
          "data": {
            "text/plain": [
              "193536720"
            ]
          },
          "metadata": {},
          "execution_count": 7
        }
      ]
    }
  ]
}