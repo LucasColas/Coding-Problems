{
  "nbformat": 4,
  "nbformat_minor": 0,
  "metadata": {
    "colab": {
      "name": "Series AP.ipynb",
      "provenance": [],
      "authorship_tag": "ABX9TyPDOAqtTIfAzySM93/LNeB8",
      "include_colab_link": true
    },
    "kernelspec": {
      "name": "python3",
      "display_name": "Python 3"
    },
    "language_info": {
      "name": "python"
    }
  },
  "cells": [
    {
      "cell_type": "markdown",
      "metadata": {
        "id": "view-in-github",
        "colab_type": "text"
      },
      "source": [
        "<a href=\"https://colab.research.google.com/github/LucasColas/Coding-Problems/blob/main/Series%20AP/Series_AP.ipynb\" target=\"_parent\"><img src=\"https://colab.research.google.com/assets/colab-badge.svg\" alt=\"Open In Colab\"/></a>"
      ]
    },
    {
      "cell_type": "markdown",
      "metadata": {
        "id": "efqz1UvuYl6b"
      },
      "source": [
        "# Series AP \n",
        "Given the first 2 terms A1 and A2 of an Arithmetic Series.Find the Nth term of the series. \n",
        "\n",
        "Example 1:\n",
        "\n",
        "Input:\n",
        "\n",
        "A1=2\n",
        "\n",
        "A2=3\n",
        "\n",
        "N=4\n",
        "\n",
        "Output:\n",
        "\n",
        "5\n",
        "\n",
        "Explanation:\n",
        "\n",
        "The series is 2,3,4,5,6....\n",
        "\n",
        "Thus, 4th term is 5.\n",
        "\n",
        "Your Task:\n",
        "You don't need to read input or print anything.Your Task is to complete the function nthTermOfAP() which takes three integers A1,A2 and N as input parameters and returns the nth term of the AP that has A1 and A2 as the first and second terms respectively.\n",
        "\n",
        "[Lien](https://practice.geeksforgeeks.org/problems/series-ap5310/1)."
      ]
    },
    {
      "cell_type": "code",
      "metadata": {
        "colab": {
          "base_uri": "https://localhost:8080/"
        },
        "id": "4v48xSmdYjPI",
        "outputId": "3c75449e-2c31-4e4e-9ebe-eb1122aae26a"
      },
      "source": [
        "def nthTermOfAP(A1, A2, N):\n",
        "  R = A2-A1\n",
        "  return A1 + (N-1)*R\n",
        "\n",
        "nthTermOfAP(1,2,10)\n"
      ],
      "execution_count": 7,
      "outputs": [
        {
          "output_type": "execute_result",
          "data": {
            "text/plain": [
              "10"
            ]
          },
          "metadata": {},
          "execution_count": 7
        }
      ]
    }
  ]
}