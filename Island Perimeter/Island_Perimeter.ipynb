{
  "nbformat": 4,
  "nbformat_minor": 0,
  "metadata": {
    "colab": {
      "name": "Island Perimeter.ipynb",
      "provenance": [],
      "collapsed_sections": [],
      "authorship_tag": "ABX9TyPwqit8T83W1uSIfkCMSmlS",
      "include_colab_link": true
    },
    "kernelspec": {
      "name": "python3",
      "display_name": "Python 3"
    },
    "language_info": {
      "name": "python"
    }
  },
  "cells": [
    {
      "cell_type": "markdown",
      "metadata": {
        "id": "view-in-github",
        "colab_type": "text"
      },
      "source": [
        "<a href=\"https://colab.research.google.com/github/LucasColas/Coding-Problems/blob/main/Island%20Perimeter/Island_Perimeter.ipynb\" target=\"_parent\"><img src=\"https://colab.research.google.com/assets/colab-badge.svg\" alt=\"Open In Colab\"/></a>"
      ]
    },
    {
      "cell_type": "markdown",
      "metadata": {
        "id": "oainrI9-I079"
      },
      "source": [
        "Island Perimeter \n",
        "\n",
        "From [LeetCode](https://leetcode.com/problems/island-perimeter/)"
      ]
    },
    {
      "cell_type": "code",
      "metadata": {
        "colab": {
          "base_uri": "https://localhost:8080/"
        },
        "id": "muRcryen-y05",
        "outputId": "0877309a-e17c-4224-96da-b4520a7a0de1"
      },
      "source": [
        "def Perimeter(grid):\n",
        "  Perimeter = 0\n",
        "  for i, row in enumerate(grid):\n",
        "    for j, cell in enumerate(row):\n",
        "\n",
        "      if cell==1:\n",
        "        Perimeter += 4\n",
        "\n",
        "      if i > 0:\n",
        "        if cell == 1 and grid[i-1][j] == 1:\n",
        "          #print(\"cell == 1 and row[i-1] == 1\",i,j, \"next door box :\", i-1,j, \"box value : \", row[i-1])\n",
        "          Perimeter -= 1\n",
        "\n",
        "      if i < len(grid)-1:\n",
        "        #print(i+1)\n",
        "        if cell == 1 and grid[i+1][j] == 1:\n",
        "          #print(\"cell == 1 and row[i+1] == 1\",i,j, \"next door box :\", i+1,j)\n",
        "          Perimeter -= 1\n",
        "\n",
        "      if j > 0:\n",
        "        if cell == 1 and row[j-1] == 1:\n",
        "          #print(\"cell == 1 and row[j-1] == 1\",i,j,\"next door box :\", i,j-1)\n",
        "          Perimeter -= 1\n",
        "\n",
        "      if j < len(row)-1:\n",
        "        if cell == 1 and row[j+1] == 1:\n",
        "          #print(\"cell == 1 and row[j+1] == 1\",i,j, \"next door box :\", i,j+1)\n",
        "          Perimeter -= 1\n",
        "\n",
        "  return Perimeter    \n",
        "       \n",
        "Perimeter([[1,0]])"
      ],
      "execution_count": 3,
      "outputs": [
        {
          "output_type": "execute_result",
          "data": {
            "text/plain": [
              "4"
            ]
          },
          "metadata": {},
          "execution_count": 3
        }
      ]
    }
  ]
}