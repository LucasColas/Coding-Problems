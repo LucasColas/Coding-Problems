{
  "nbformat": 4,
  "nbformat_minor": 0,
  "metadata": {
    "colab": {
      "name": "Island Perimeter.ipynb",
      "provenance": [],
      "collapsed_sections": [],
      "authorship_tag": "ABX9TyMNwZ9GHl1ZtwEnsRW2HjzI",
      "include_colab_link": true
    },
    "kernelspec": {
      "name": "python3",
      "display_name": "Python 3"
    },
    "language_info": {
      "name": "python"
    }
  },
  "cells": [
    {
      "cell_type": "markdown",
      "metadata": {
        "id": "view-in-github",
        "colab_type": "text"
      },
      "source": [
        "<a href=\"https://colab.research.google.com/github/LucasColas/Coding-Problems/blob/main/Island%20Perimeter/Island_Perimeter.ipynb\" target=\"_parent\"><img src=\"https://colab.research.google.com/assets/colab-badge.svg\" alt=\"Open In Colab\"/></a>"
      ]
    },
    {
      "cell_type": "code",
      "metadata": {
        "colab": {
          "base_uri": "https://localhost:8080/"
        },
        "id": "DARtGESvKu-4",
        "outputId": "3488bc9a-9186-4c19-e8ac-03a18b93ae29"
      },
      "source": [
        "\n",
        "def islandPerimeter(grid):\n",
        "        Perimeter = 0\n",
        "        for i, row in enumerate(grid):\n",
        "            print(len(row)-2)\n",
        "            for j, cell in enumerate(row):\n",
        "                if j == 0 and cell == 1:\n",
        "                    Perimeter += 1\n",
        "                    print(\"j == 0 and cell == 1  \",i,j)\n",
        "\n",
        "                if j == len(row)-1 and cell == 1:\n",
        "                    Perimeter +=1\n",
        "                    print(\"j == len(row)-1 and cell == 1  \",i,j)\n",
        "                print(j, j <= len(row) - 2 and j>0)\n",
        "                if j <= len(row) - 2 and j>0:\n",
        "                    if row[j+1] == 0 and cell == 1:\n",
        "                        Perimeter += 1\n",
        "                        print(\"<= len(row) - 2 and j>0  \",i,j)\n",
        "\n",
        "                    \n",
        "                    if row[j-1] == 0 and cell == 1:\n",
        "                        Perimeter += 1\n",
        "                        print(\"row[j-1] == 0 and cell == 1  \",i,j)\n",
        "\n",
        "\n",
        "                if i == 0 and cell == 1:\n",
        "                    Perimeter += 1\n",
        "                    print(\"if i == 0 and cell == 1  \",i,j)\n",
        "                \n",
        "\n",
        "                if i == len(grid)-1:\n",
        "                    if cell == 1:\n",
        "                        Perimeter += 1\n",
        "                        print(\"if i == len(grid)- 1  \",i,j)\n",
        "\n",
        "                        if grid[i-1][j] == 0:\n",
        "                          Perimeter += 1\n",
        "                          print(\"if grid[i-1][j] == 0  \", i,j)\n",
        "\n",
        "\n",
        "                if i > 0 and i <= len(grid)-2:\n",
        "                    if grid[i-1][j] == 0 and cell == 1:\n",
        "                          Perimeter += 1\n",
        "                          print(\"if i > 0 and i <= len(grid)-2  \",i,j)\n",
        "\n",
        "                  \n",
        "\n",
        "                    if grid[i+1][j] == 0 and cell == 1:\n",
        "                        Perimeter += 1\n",
        "                        print(\"if grid[i+1[j]  \",i,j)\n",
        "                   \n",
        "        print(Perimeter)        \n",
        "        return Perimeter\n",
        "islandPerimeter([[1,0]])"
      ],
      "execution_count": 4,
      "outputs": [
        {
          "output_type": "stream",
          "name": "stdout",
          "text": [
            "0\n",
            "j == 0 and cell == 1   0 0\n",
            "0 False\n",
            "if i == 0 and cell == 1   0 0\n",
            "if i == len(grid)- 1   0 0\n",
            "1 False\n",
            "3\n"
          ]
        },
        {
          "output_type": "execute_result",
          "data": {
            "text/plain": [
              "3"
            ]
          },
          "metadata": {},
          "execution_count": 4
        }
      ]
    },
    {
      "cell_type": "code",
      "metadata": {
        "colab": {
          "base_uri": "https://localhost:8080/"
        },
        "id": "muRcryen-y05",
        "outputId": "7e4e4685-94a7-4563-ba0c-4ad556f0cd62"
      },
      "source": [
        "def Perimeter(grid):\n",
        "  Perimeter = 0\n",
        "  for i, row in enumerate(grid):\n",
        "    for j, cell in enumerate(row):\n",
        "\n",
        "      if cell==1:\n",
        "        Perimeter += 4\n",
        "\n",
        "      if i > 0:\n",
        "        if cell == 1 and grid[i-1][j] == 1:\n",
        "          print(\"cell == 1 and row[i-1] == 1\",i,j, \"next door box :\", i-1,j, \"box value : \", row[i-1])\n",
        "          Perimeter -= 1\n",
        "\n",
        "      if i < len(row)-1:\n",
        "        if cell == 1 and grid[i+1][j] == 1:\n",
        "          print(\"cell == 1 and row[i+1] == 1\",i,j, \"next door box :\", i+1,j)\n",
        "          Perimeter -= 1\n",
        "\n",
        "      if j > 0:\n",
        "        if cell == 1 and row[j-1] == 1:\n",
        "          print(\"cell == 1 and row[j-1] == 1\",i,j,\"next door box :\", i,j-1)\n",
        "          Perimeter -= 1\n",
        "\n",
        "      if j < len(row)-1:\n",
        "        if cell == 1 and row[j+1] == 1:\n",
        "          print(\"cell == 1 and row[j+1] == 1\",i,j, \"next door box :\", i,j+1)\n",
        "          Perimeter -= 1\n",
        "\n",
        "  return Perimeter    \n",
        "       \n",
        "Perimeter([[0,1,0,0],[1,1,1,0],[0,1,0,0],[1,1,0,0]])"
      ],
      "execution_count": 14,
      "outputs": [
        {
          "output_type": "stream",
          "name": "stdout",
          "text": [
            "cell == 1 and row[i+1] == 1 0 1 next door box : 1 1\n",
            "cell == 1 and row[j+1] == 1 1 0 next door box : 1 1\n",
            "cell == 1 and row[i-1] == 1 1 1 next door box : 0 1 box value :  1\n",
            "cell == 1 and row[i+1] == 1 1 1 next door box : 2 1\n",
            "cell == 1 and row[j-1] == 1 1 1 next door box : 1 0\n",
            "cell == 1 and row[j+1] == 1 1 1 next door box : 1 2\n",
            "cell == 1 and row[j-1] == 1 1 2 next door box : 1 1\n",
            "cell == 1 and row[i-1] == 1 2 1 next door box : 1 1 box value :  1\n",
            "cell == 1 and row[i+1] == 1 2 1 next door box : 3 1\n",
            "cell == 1 and row[j+1] == 1 3 0 next door box : 3 1\n",
            "cell == 1 and row[i-1] == 1 3 1 next door box : 2 1 box value :  0\n",
            "cell == 1 and row[j-1] == 1 3 1 next door box : 3 0\n"
          ]
        },
        {
          "output_type": "execute_result",
          "data": {
            "text/plain": [
              "16"
            ]
          },
          "metadata": {},
          "execution_count": 14
        }
      ]
    }
  ]
}