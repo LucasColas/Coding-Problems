{
  "nbformat": 4,
  "nbformat_minor": 0,
  "metadata": {
    "colab": {
      "name": "Merge Intervals.ipynb",
      "provenance": [],
      "collapsed_sections": [],
      "authorship_tag": "ABX9TyMfhZcII7Efn3P206+rR9x5"
    },
    "kernelspec": {
      "name": "python3",
      "display_name": "Python 3"
    },
    "language_info": {
      "name": "python"
    }
  },
  "cells": [
    {
      "cell_type": "markdown",
      "source": [
        "# Merge intervals \n",
        "\n",
        "\n",
        "Given an array of intervals where intervals[i] = [starti, endi], \n",
        "merge all overlapping intervals, and return an array of the non-overlapping \n",
        "intervals that cover all the intervals in the input.\n",
        "\n",
        "From Leetcode : https://leetcode.com/problems/merge-intervals/\n"
      ],
      "metadata": {
        "id": "AiABsS93Qrzh"
      }
    },
    {
      "cell_type": "code",
      "execution_count": 9,
      "metadata": {
        "colab": {
          "base_uri": "https://localhost:8080/"
        },
        "id": "GfDmxfbv9zul",
        "outputId": "ea513b2f-522e-4710-ded3-bb875bce4a25"
      },
      "outputs": [
        {
          "output_type": "execute_result",
          "data": {
            "text/plain": [
              "[[1, 5]]"
            ]
          },
          "metadata": {},
          "execution_count": 9
        }
      ],
      "source": [
        "from operator import itemgetter\n",
        "\n",
        "def merge_Intervals(intervals):\n",
        "  merged_intervals = []\n",
        "  sorted_intervals = sorted(intervals, key=itemgetter(0))\n",
        "  \n",
        "  for i in range(len(sorted_intervals)):\n",
        "    if len(merged_intervals) == 0 or merged_intervals[-1][1] < sorted_intervals[i][0]:\n",
        "      merged_intervals.append(sorted_intervals[i])\n",
        "\n",
        "    else:\n",
        "      merged_intervals[-1][1] = max(merged_intervals[-1][1], sorted_intervals[i][1])\n",
        "\n",
        "  return merged_intervals\n",
        "\n",
        "    \n",
        "\n",
        "merge_Intervals([[1,4],[4,5]])\n"
      ]
    }
  ]
}