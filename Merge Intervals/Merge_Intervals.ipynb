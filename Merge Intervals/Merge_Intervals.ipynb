{
  "nbformat": 4,
  "nbformat_minor": 0,
  "metadata": {
    "colab": {
      "name": "Merge Intervals.ipynb",
      "provenance": [],
      "collapsed_sections": [],
      "authorship_tag": "ABX9TyPYuHFPsxde0DHiGDTDkS8B",
      "include_colab_link": true
    },
    "kernelspec": {
      "name": "python3",
      "display_name": "Python 3"
    },
    "language_info": {
      "name": "python"
    }
  },
  "cells": [
    {
      "cell_type": "markdown",
      "metadata": {
        "id": "view-in-github",
        "colab_type": "text"
      },
      "source": [
        "<a href=\"https://colab.research.google.com/github/LucasColas/Coding-Problems/blob/main/Merge%20Intervals/Merge_Intervals.ipynb\" target=\"_parent\"><img src=\"https://colab.research.google.com/assets/colab-badge.svg\" alt=\"Open In Colab\"/></a>"
      ]
    },
    {
      "cell_type": "code",
      "execution_count": 6,
      "metadata": {
        "colab": {
          "base_uri": "https://localhost:8080/"
        },
        "id": "GfDmxfbv9zul",
        "outputId": "8acba94a-f0e2-4106-bdec-9cb59d91fdf3"
      },
      "outputs": [
        {
          "output_type": "execute_result",
          "data": {
            "text/plain": [
              "[[1, 6], [8, 10], [15, 18]]"
            ]
          },
          "metadata": {},
          "execution_count": 6
        }
      ],
      "source": [
        "def merge_Intervals(intervals):\n",
        "  merged_intervals = []\n",
        "  for i in range(1, len(intervals)):\n",
        "    if intervals[i-1][1] >= intervals[i][0]:\n",
        "      merged_intervals.append([intervals[i-1][0], intervals[i][1]])\n",
        "\n",
        "    else: \n",
        "      merged_intervals.append(intervals[i])\n",
        "\n",
        "  return merged_intervals\n",
        "\n",
        "merge_Intervals([[1,3],[2,6],[8,10],[15,18]])\n"
      ]
    }
  ]
}