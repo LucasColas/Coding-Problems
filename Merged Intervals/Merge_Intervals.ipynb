{
  "nbformat": 4,
  "nbformat_minor": 0,
  "metadata": {
    "colab": {
      "name": "Merge Intervals.ipynb",
      "provenance": [],
      "collapsed_sections": [],
      "authorship_tag": "ABX9TyO+5IAAi+WMCCrzUrLOByLd",
      "include_colab_link": true
    },
    "kernelspec": {
      "name": "python3",
      "display_name": "Python 3"
    },
    "language_info": {
      "name": "python"
    }
  },
  "cells": [
    {
      "cell_type": "markdown",
      "metadata": {
        "id": "view-in-github",
        "colab_type": "text"
      },
      "source": [
        "<a href=\"https://colab.research.google.com/github/LucasColas/Coding-Problems/blob/main/Merged%20Intervals/Merge_Intervals.ipynb\" target=\"_parent\"><img src=\"https://colab.research.google.com/assets/colab-badge.svg\" alt=\"Open In Colab\"/></a>"
      ]
    },
    {
      "cell_type": "code",
      "execution_count": 9,
      "metadata": {
        "colab": {
          "base_uri": "https://localhost:8080/"
        },
        "id": "GfDmxfbv9zul",
        "outputId": "ea513b2f-522e-4710-ded3-bb875bce4a25"
      },
      "outputs": [
        {
          "output_type": "execute_result",
          "data": {
            "text/plain": [
              "[[1, 5]]"
            ]
          },
          "metadata": {},
          "execution_count": 9
        }
      ],
      "source": [
        "from operator import itemgetter\n",
        "\n",
        "def merge_Intervals(intervals):\n",
        "  merged_intervals = []\n",
        "  sorted_intervals = sorted(intervals, key=itemgetter(0))\n",
        "  \n",
        "  for i in range(len(sorted_intervals)):\n",
        "    if len(merged_intervals) == 0 or merged_intervals[-1][1] < sorted_intervals[i][0]:\n",
        "      merged_intervals.append(sorted_intervals[i])\n",
        "\n",
        "    else:\n",
        "      merged_intervals[-1][1] = max(merged_intervals[-1][1], sorted_intervals[i][1])\n",
        "\n",
        "  return merged_intervals\n",
        "\n",
        "    \n",
        "\n",
        "merge_Intervals([[1,4],[4,5]])\n"
      ]
    }
  ]
}