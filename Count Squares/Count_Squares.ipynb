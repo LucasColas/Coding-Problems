{
  "nbformat": 4,
  "nbformat_minor": 0,
  "metadata": {
    "colab": {
      "name": "Count Squares.ipynb",
      "provenance": [],
      "authorship_tag": "ABX9TyNpDRct7nLEyWkkiiwW3Usq",
      "include_colab_link": true
    },
    "kernelspec": {
      "name": "python3",
      "display_name": "Python 3"
    },
    "language_info": {
      "name": "python"
    }
  },
  "cells": [
    {
      "cell_type": "markdown",
      "metadata": {
        "id": "view-in-github",
        "colab_type": "text"
      },
      "source": [
        "<a href=\"https://colab.research.google.com/github/LucasColas/Coding-Problems/blob/main/Count%20Squares/Count_Squares.ipynb\" target=\"_parent\"><img src=\"https://colab.research.google.com/assets/colab-badge.svg\" alt=\"Open In Colab\"/></a>"
      ]
    },
    {
      "cell_type": "markdown",
      "metadata": {
        "id": "N81VbpWOkI8B"
      },
      "source": [
        "# Count Squares\n",
        "\n",
        "Consider a sample space S consisting of all perfect squares starting from 1, 4, 9 and so on. You are given a number N, you have to output the number of integers less than N in the sample space S.\n",
        "\n",
        "Example 1 :\n",
        "Input :\n",
        "N = 9\n",
        "\n",
        "Output:\n",
        "2\n",
        "\n",
        "Explanation:\n",
        "1 and 4 are the only Perfect Squares\n",
        "less than 9. So, the Output is 2.\n",
        "\n",
        "\n",
        "Example 2 :\n",
        "Input :\n",
        "N = 3\n",
        "\n",
        "Output:\n",
        "1\n",
        "Explanation:\n",
        "1 is the only Perfect Square\n",
        "less than 3. So, the Output is 1.\n",
        "\n",
        "Your Task:\n",
        "You don't need to read input or print anything. Your task is to complete the function countSquares() which takes an Integer N as input and returns the answer.\n",
        "\n",
        "De [GeeksForGeeks](https://practice.geeksforgeeks.org/problems/count-squares3649/1)."
      ]
    },
    {
      "cell_type": "code",
      "metadata": {
        "colab": {
          "base_uri": "https://localhost:8080/"
        },
        "id": "FApN2RC-iPsx",
        "outputId": "307889c5-640f-4f84-e781-806cf2fe2ba1"
      },
      "source": [
        "from math import sqrt\n",
        "\n",
        "def countSquares(N):\n",
        "  for i in range(1, N):\n",
        "    if i**2 < N:\n",
        "      print(i**2)\n",
        "\n",
        "\n",
        "countSquares(3)"
      ],
      "execution_count": 6,
      "outputs": [
        {
          "output_type": "stream",
          "name": "stdout",
          "text": [
            "1\n"
          ]
        }
      ]
    }
  ]
}