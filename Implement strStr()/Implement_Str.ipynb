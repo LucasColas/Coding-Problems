{
  "nbformat": 4,
  "nbformat_minor": 0,
  "metadata": {
    "colab": {
      "name": "Implement strStr().ipynb",
      "provenance": [],
      "authorship_tag": "ABX9TyO0dp5nr50zkBCnKf4epPok",
      "include_colab_link": true
    },
    "kernelspec": {
      "name": "python3",
      "display_name": "Python 3"
    },
    "language_info": {
      "name": "python"
    }
  },
  "cells": [
    {
      "cell_type": "markdown",
      "metadata": {
        "id": "view-in-github",
        "colab_type": "text"
      },
      "source": [
        "<a href=\"https://colab.research.google.com/github/LucasColas/Coding-Problems/blob/main/Implement%20strStr()/Implement_Str.ipynb\" target=\"_parent\"><img src=\"https://colab.research.google.com/assets/colab-badge.svg\" alt=\"Open In Colab\"/></a>"
      ]
    },
    {
      "cell_type": "code",
      "metadata": {
        "id": "pgdREpCO5uXr"
      },
      "source": [
        "def strStr(haystack, needle):\n",
        "  \n",
        "  if needle not in haystack: \n",
        "    return -1\n",
        "\n",
        "  if len(haystack) == 0 and len(needle) == 0:\n",
        "    return 0\n",
        "\n",
        "  if haystack == needle:\n",
        "    return 0\n",
        "\n",
        "  len_needle = len(needle)\n",
        "  \n",
        "\n",
        "  for i in range(0, len(haystack)-len_needle):\n",
        "    if haystack[i:i+len_needle] ==  needle:\n",
        "      return i\n",
        "\n",
        "\n",
        "strStr(\"hello\",\"ll\")"
      ],
      "execution_count": null,
      "outputs": []
    }
  ]
}