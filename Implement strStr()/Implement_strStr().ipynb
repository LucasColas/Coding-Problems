{
  "nbformat": 4,
  "nbformat_minor": 0,
  "metadata": {
    "colab": {
      "name": "Implement strStr().ipynb",
      "provenance": [],
      "authorship_tag": "ABX9TyM+LcALbt5P/v1ZAzZcGrnO",
      "include_colab_link": true
    },
    "kernelspec": {
      "name": "python3",
      "display_name": "Python 3"
    },
    "language_info": {
      "name": "python"
    }
  },
  "cells": [
    {
      "cell_type": "markdown",
      "metadata": {
        "id": "view-in-github",
        "colab_type": "text"
      },
      "source": [
        "<a href=\"https://colab.research.google.com/github/LucasColas/Coding-Problems/blob/main/Implement%20strStr()/Implement_strStr().ipynb\" target=\"_parent\"><img src=\"https://colab.research.google.com/assets/colab-badge.svg\" alt=\"Open In Colab\"/></a>"
      ]
    },
    {
      "cell_type": "code",
      "metadata": {
        "colab": {
          "base_uri": "https://localhost:8080/"
        },
        "id": "pgdREpCO5uXr",
        "outputId": "0b2fc742-52a3-4899-8015-e465917b2083"
      },
      "source": [
        "def strStr(haystack, needle):\n",
        "  \n",
        "  if needle not in haystack: \n",
        "    return -1\n",
        "\n",
        "  if len(haystack) == 0 and len(needle) == 0:\n",
        "    return 0\n",
        "\n",
        "  len_needle = len(needle)\n",
        "  \n",
        "\n",
        "  for i in range(0, len(haystack)-len_needle):\n",
        "    if haystack[i:i+len_needle] ==  needle:\n",
        "      return i\n",
        "\n",
        "\n",
        "strStr(\"hello\",\"ll\")"
      ],
      "execution_count": 13,
      "outputs": [
        {
          "output_type": "stream",
          "name": "stdout",
          "text": [
            "he\n",
            "hello\n",
            "e\n",
            "hello\n",
            "\n",
            "hello\n"
          ]
        },
        {
          "output_type": "execute_result",
          "data": {
            "text/plain": [
              "2"
            ]
          },
          "metadata": {},
          "execution_count": 13
        }
      ]
    }
  ]
}