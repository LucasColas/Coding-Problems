{
  "nbformat": 4,
  "nbformat_minor": 0,
  "metadata": {
    "colab": {
      "name": "Implement strStr().ipynb",
      "provenance": [],
      "authorship_tag": "ABX9TyNrQIWkGUEU1rz2WMioMlbg",
      "include_colab_link": true
    },
    "kernelspec": {
      "name": "python3",
      "display_name": "Python 3"
    },
    "language_info": {
      "name": "python"
    }
  },
  "cells": [
    {
      "cell_type": "markdown",
      "metadata": {
        "id": "view-in-github",
        "colab_type": "text"
      },
      "source": [
        "<a href=\"https://colab.research.google.com/github/LucasColas/Coding-Problems/blob/main/Implement%20strStr()/Implement_strStr().ipynb\" target=\"_parent\"><img src=\"https://colab.research.google.com/assets/colab-badge.svg\" alt=\"Open In Colab\"/></a>"
      ]
    },
    {
      "cell_type": "markdown",
      "metadata": {
        "id": "p1nhxDv9IL5f"
      },
      "source": [
        "# Implement strStr()\n",
        "\n",
        "Return the index of the first occurrence of needle in haystack, or -1 if needle is not part of haystack.\n",
        "From [Leetcode](https://leetcode.com/problems/implement-strstr/)."
      ]
    },
    {
      "cell_type": "code",
      "metadata": {
        "colab": {
          "base_uri": "https://localhost:8080/"
        },
        "id": "pgdREpCO5uXr",
        "outputId": "df9666be-9306-4af2-d486-d8f542ce3190"
      },
      "source": [
        "def strStr(haystack, needle):\n",
        "  \n",
        "  if needle not in haystack: \n",
        "    return -1\n",
        "\n",
        "  if len(haystack) == 0 and len(needle) == 0:\n",
        "    return 0\n",
        "\n",
        "  if haystack == needle:\n",
        "    return 0\n",
        "\n",
        "  len_needle = len(needle)\n",
        "  \n",
        "\n",
        "  for i in range(0, len(haystack)):\n",
        "    if haystack[i:i+len_needle] == needle:\n",
        "      return i\n",
        "\n",
        "\n",
        "  return -1\n",
        "\n",
        "\n",
        "strStr(\"hello\",\"ll\")"
      ],
      "execution_count": 6,
      "outputs": [
        {
          "output_type": "execute_result",
          "data": {
            "text/plain": [
              "2"
            ]
          },
          "metadata": {},
          "execution_count": 6
        }
      ]
    }
  ]
}