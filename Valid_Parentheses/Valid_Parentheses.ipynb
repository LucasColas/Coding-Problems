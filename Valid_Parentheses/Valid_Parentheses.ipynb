{
  "nbformat": 4,
  "nbformat_minor": 0,
  "metadata": {
    "colab": {
      "name": "Valid Parentheses.ipynb",
      "provenance": [],
      "authorship_tag": "ABX9TyNyZcgK5qnws3qXzuiNmSG8",
      "include_colab_link": true
    },
    "kernelspec": {
      "name": "python3",
      "display_name": "Python 3"
    },
    "language_info": {
      "name": "python"
    }
  },
  "cells": [
    {
      "cell_type": "markdown",
      "metadata": {
        "id": "view-in-github",
        "colab_type": "text"
      },
      "source": [
        "<a href=\"https://colab.research.google.com/github/LucasColas/Coding-Problems/blob/main/Valid_Parentheses/Valid_Parentheses.ipynb\" target=\"_parent\"><img src=\"https://colab.research.google.com/assets/colab-badge.svg\" alt=\"Open In Colab\"/></a>"
      ]
    },
    {
      "cell_type": "markdown",
      "metadata": {
        "id": "Qa8cCTSkE0ns"
      },
      "source": [
        "From [LeetCode](https://leetcode.com/problems/valid-parentheses/)."
      ]
    },
    {
      "cell_type": "code",
      "metadata": {
        "colab": {
          "base_uri": "https://localhost:8080/"
        },
        "id": "RW0KXUbfDxHP",
        "outputId": "6b62669d-4c66-4585-c9f6-83b5cf722c9d"
      },
      "source": [
        "def isValid(s):\n",
        "  if len(s)%2 == 1:\n",
        "    return False\n",
        "\n",
        "  elif len(s) <= 1:\n",
        "    return False\n",
        "\n",
        "  else:\n",
        "    stack = ['']\n",
        "    Dic = {'(':')', '{':'}', '[':']'}\n",
        "\n",
        "    for b in s:\n",
        "      if b in Dic:\n",
        "        stack.append(Dic[b])\n",
        "\n",
        "      elif b != stack.pop():\n",
        "        return False\n",
        "\n",
        "    return stack == ['']\n",
        "\n",
        "isValid(\"()[]\")"
      ],
      "execution_count": 18,
      "outputs": [
        {
          "output_type": "execute_result",
          "data": {
            "text/plain": [
              "True"
            ]
          },
          "metadata": {},
          "execution_count": 18
        }
      ]
    }
  ]
}