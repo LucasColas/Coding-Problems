{
  "nbformat": 4,
  "nbformat_minor": 0,
  "metadata": {
    "colab": {
      "name": "Valid Parentheses.ipynb",
      "provenance": [],
      "authorship_tag": "ABX9TyOPVQjuFnmf9pCoXZvjScUu",
      "include_colab_link": true
    },
    "kernelspec": {
      "name": "python3",
      "display_name": "Python 3"
    },
    "language_info": {
      "name": "python"
    }
  },
  "cells": [
    {
      "cell_type": "markdown",
      "metadata": {
        "id": "view-in-github",
        "colab_type": "text"
      },
      "source": [
        "<a href=\"https://colab.research.google.com/github/LucasColas/Coding-Problems/blob/main/Valid_Parentheses/Valid_Parentheses.ipynb\" target=\"_parent\"><img src=\"https://colab.research.google.com/assets/colab-badge.svg\" alt=\"Open In Colab\"/></a>"
      ]
    },
    {
      "cell_type": "code",
      "metadata": {
        "id": "BxU335RsjdoJ"
      },
      "source": [
        "def isValid(s):\n",
        "  Dico = {\"{\":\"}\", \"(\":\")\", \"[\":\"]\"}\n",
        "  if len(s) <= 1:\n",
        "    return False\n",
        "\n",
        "  elif len(s)%2 != 0:\n",
        "    return False\n",
        "\n",
        "  else:\n",
        "    i = 0\n",
        "    while i <= len(s)%2:\n",
        "      c = Dico[s[i]]\n",
        "      if c != s[len(s)-1-i]:\n",
        "        return False\n",
        "      i += 1\n",
        "\n",
        "    return True"
      ],
      "execution_count": null,
      "outputs": []
    }
  ]
}